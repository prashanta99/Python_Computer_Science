{
 "cells": [
  {
   "cell_type": "markdown",
   "metadata": {},
   "source": [
    "# STACK Data Structure"
   ]
  },
  {
   "cell_type": "markdown",
   "metadata": {},
   "source": [
    "## What is Stack\n",
    "Stacks are abstract Datatypes and it is collection of elements. <br>\n",
    "Stacks work on **`LIFO`** principle - **Last In First out** <br>\n",
    "Stacks are usually implemented using Arrays\n",
    "\n",
    "Stack Data structure is similar to Stack of plates (show below): We place a new plate on top of existing plate and when we want to remove the plate, we take it from the top - Thus the last plate that went on the stack was taken out First (LIFO)\n",
    "image - shutterstock.com\n",
    "\n",
    "<img src = \"./images/stack-of_plates.jpeg\"/>\n"
   ]
  },
  {
   "cell_type": "markdown",
   "metadata": {},
   "source": [
    "## Stack Functions\n",
    "\n",
    "### Main Operations on Stack \n",
    "\n",
    "- **`push`** : pushes the element in the stack\n",
    "- **`pop`** :  Removes the last inserted element from the stack.\n",
    "\n",
    "\n",
    "below diagram from Wikepedia well represents the action of PUSH and POP function\n",
    "courtesy : https://en.wikipedia.org/wiki/Stack_(abstract_data_type)\n",
    "<img src = \"./images/700px-Lifo_stack.png\"/>"
   ]
  },
  {
   "cell_type": "markdown",
   "metadata": {},
   "source": [
    "## Additional Helper Functions:\n",
    "\n",
    "- **`isEmpty`**: Check to see if the stack is Empty - Boolean\n",
    "\n",
    "- **`size`**: Return the size (number of elements) of the stack\n",
    "\n",
    "- **`top`**: View/Get the top element (Pop will get and removes the element from the stack)"
   ]
  },
  {
   "cell_type": "code",
   "execution_count": null,
   "metadata": {},
   "outputs": [],
   "source": []
  }
 ],
 "metadata": {
  "kernelspec": {
   "display_name": "Python 3",
   "language": "python",
   "name": "python3"
  },
  "language_info": {
   "codemirror_mode": {
    "name": "ipython",
    "version": 3
   },
   "file_extension": ".py",
   "mimetype": "text/x-python",
   "name": "python",
   "nbconvert_exporter": "python",
   "pygments_lexer": "ipython3",
   "version": "3.7.6"
  }
 },
 "nbformat": 4,
 "nbformat_minor": 4
}
