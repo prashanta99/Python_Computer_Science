{
 "cells": [
  {
   "cell_type": "markdown",
   "metadata": {},
   "source": [
    "# Implementation of STACK Data Structure using Python List"
   ]
  },
  {
   "cell_type": "code",
   "execution_count": 1,
   "metadata": {},
   "outputs": [],
   "source": [
    "class Stack:\n",
    "    def __init__(self):\n",
    "        self.stacklist= []\n",
    "        \n",
    "    def size(self):\n",
    "        return len(self.stacklist)\n",
    "        \n",
    "    def pop(self):\n",
    "        if self.size() > 0:\n",
    "            return self.stacklist.pop()\n",
    "        else:\n",
    "            print(\"Stack is Empty: Pop operation not permitted!!\")\n",
    "        \n",
    "    def push(self,value):\n",
    "        self.stacklist.append(value)\n",
    "        \n",
    "    def top(self):\n",
    "        return self.stacklist[-1]\n",
    "        \n",
    "\n",
    "    def isEmpty(self):\n",
    "        return (len(self.stacklist)) == 0\n",
    "    "
   ]
  },
  {
   "cell_type": "markdown",
   "metadata": {},
   "source": [
    "# Testing the Stack Class"
   ]
  },
  {
   "cell_type": "code",
   "execution_count": 12,
   "metadata": {},
   "outputs": [
    {
     "name": "stdout",
     "output_type": "stream",
     "text": [
      "\n",
      "Push following elements in Stack: [10, 20, 30, 40, 0, -20, 200]\n",
      "\n",
      "size of the Stack is : 7\n",
      "Top element of the Stack is : 200\n",
      "Pop element from stack: 200 will be removed\n",
      "New Top element on stack is : -20\n",
      "Pop one more element from stack: -20 will be removed\n",
      "New Top element on stack is : 0\n",
      "Check if stack is Empty using isEmpty function, it is not!!\n",
      "Is Stack Empty? : False\n",
      "Current Size of Stack is : 5\n"
     ]
    }
   ],
   "source": [
    "#import stack\n",
    "\n",
    "newstack = Stack()\n",
    "print()\n",
    "print(\"Push following elements in Stack: [10, 20, 30, 40, 0, -20, 200]\")\n",
    "newstack.push(10)\n",
    "newstack.push(20)\n",
    "newstack.push(30)\n",
    "newstack.push(40)\n",
    "newstack.push(0)\n",
    "newstack.push(-20)\n",
    "newstack.push(200)\n",
    "print()\n",
    "print(\"size of the Stack is :\", newstack.size() ) # o/p should be 7\n",
    "print(\"Top element of the Stack is :\", newstack.top()) # o/p should be 200\n",
    "\n",
    "print(\"Pop element from stack: 200 will be removed\")\n",
    "newstack.pop()\n",
    "print(\"New Top element on stack is :\", newstack.top()) # should be -20\n",
    "\n",
    "print(\"Pop one more element from stack: -20 will be removed\")\n",
    "newstack.pop()\n",
    "print(\"New Top element on stack is :\", newstack.top()) # should be 0\n",
    "\n",
    "print(\"Check if stack is Empty using isEmpty function, it is not!!\")\n",
    "print(\"Is Stack Empty? :\", newstack.isEmpty()) # o/p should be False\n",
    "print(\"Current Size of Stack is :\", newstack.size()) # o/p should be 5\n",
    "        "
   ]
  },
  {
   "cell_type": "code",
   "execution_count": null,
   "metadata": {},
   "outputs": [],
   "source": []
  }
 ],
 "metadata": {
  "kernelspec": {
   "display_name": "Python 3",
   "language": "python",
   "name": "python3"
  },
  "language_info": {
   "codemirror_mode": {
    "name": "ipython",
    "version": 3
   },
   "file_extension": ".py",
   "mimetype": "text/x-python",
   "name": "python",
   "nbconvert_exporter": "python",
   "pygments_lexer": "ipython3",
   "version": "3.7.6"
  }
 },
 "nbformat": 4,
 "nbformat_minor": 4
}
