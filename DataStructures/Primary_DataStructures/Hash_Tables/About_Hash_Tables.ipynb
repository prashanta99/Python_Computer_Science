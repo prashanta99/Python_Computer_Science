{
 "cells": [
  {
   "cell_type": "markdown",
   "metadata": {},
   "source": [
    "# Hash_Tables"
   ]
  },
  {
   "cell_type": "markdown",
   "metadata": {},
   "source": [
    "### <span style=\"color:maroon\">About:</span>\n",
    "\n",
    "sources: \n",
    "https://en.wikipedia.org/wiki/Hash_table\n",
    "\n",
    "**Hash Table:**: It is a data structure that maps keys to their values, using a **hash function**. Underneath, a Hash Table uses an Array\n",
    "\n",
    "**Hash Function:** Ideally a Hash Function will assign each key to a unique bucket. There will be cases where a Hash Function generates the same index for more than one key. This is called **`Collision`**\n",
    "\n",
    "\n",
    "Hashing implies a function **h**, when applied to a key **k**, produces a hash **M**.\n",
    "\n",
    "The advantage of using hashing is that the index of the element can be directly computed from the key.<br>\n",
    "This makes the SEARCH time complexity = **BIG O(1)**\n",
    "\n",
    "Since the Size of the Hash Table is fixed, say N, the hash result should be mapped to those N finite entries in the hash table—or slots— <br>\n",
    "\n",
    "Following methods can be used to map the keys into the size of hash table of size **N**.\n",
    "- **Division Method**\n",
    "- **Folding Method**\n",
    "- **Mid Square Method**\n",
    "\n",
    "\n",
    "### Division Method\n",
    "This is the most commong method used in which modular arithmetic is used in computing the slot.\n",
    "\n",
    "h(k) = M mod N\n",
    "This is often done in two steps,\n",
    "1. Hash = Hash_Function(Key)\n",
    "2. Index = Hash % Hash_Table_Size\n",
    "\n",
    "\n",
    "\n"
   ]
  },
  {
   "cell_type": "markdown",
   "metadata": {},
   "source": [
    "## Key statistics\n",
    "\n",
    "A critical statistic for hash table performance is the load factor, defined as\n",
    "\n",
    "$$load factor(\\alpha) = n/k$$\n",
    "where\n",
    "- **n** is the number of entries occupied in the hash table.\n",
    "- **k** is the number of buckets.\n",
    "\n",
    "When the load factor is high or low (i.e when Load Factor = 1 or Load Factore < max(Load_factor)/4), the performace of the hash tables goes down and in that case it is necessary to resize the Hash Table (reestimate N)\n",
    "\n",
    "Acceptable values for the Load Factor are **0.6 and 0.75**\n"
   ]
  },
  {
   "cell_type": "markdown",
   "metadata": {},
   "source": [
    "## Collision Resolution\n",
    "\n",
    "**Collision Example:**\n",
    "```\n",
    "Assume N = 10  -- I.e say an Array of 10 Elements\n",
    "For Key = 7, using Division method we get Index = 7 % 10 = 7 \n",
    "For Key = 27, using Division method we get Index = 27 % 10 = 7\n",
    "```\n",
    "We see that the index derived for both the Keys 7 and 27 is same but only one value can occupy the space.\n",
    "Lets say element 7 takes the space first, when 27 comes next, it sees the slot 7 is already been occupied. This is called **Collision**. We need to find a new space for 27. This is called **Collision Resoultion**\n",
    "\n",
    "Note: Ideally we cannot remove Collision completely but we can minimize it.\n",
    "\n",
    "There are two common techniques for collision resolution.\n",
    "1. Closed Addressing (also known as Separate chaining or Open Hashing)\n",
    "2. Open Addressing (also know as Closed Hashing)\n",
    "\n",
    "Further the **Open Addressing** has three different techniques\n",
    "1. Linear Probing\n",
    "2. Quadratic Probing\n",
    "3. Double Hashing\n",
    "\n",
    "<img src = \"./images/Collision_methods.png\"/>\n",
    "\n",
    "                                         "
   ]
  },
  {
   "cell_type": "code",
   "execution_count": null,
   "metadata": {},
   "outputs": [],
   "source": []
  }
 ],
 "metadata": {
  "kernelspec": {
   "display_name": "Python 3",
   "language": "python",
   "name": "python3"
  },
  "language_info": {
   "codemirror_mode": {
    "name": "ipython",
    "version": 3
   },
   "file_extension": ".py",
   "mimetype": "text/x-python",
   "name": "python",
   "nbconvert_exporter": "python",
   "pygments_lexer": "ipython3",
   "version": "3.7.6"
  }
 },
 "nbformat": 4,
 "nbformat_minor": 4
}
