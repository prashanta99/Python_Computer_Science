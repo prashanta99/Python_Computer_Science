{
 "cells": [
  {
   "cell_type": "markdown",
   "metadata": {},
   "source": [
    "# Closed Addressing / Open Hashing / Seperate Chaining"
   ]
  },
  {
   "cell_type": "markdown",
   "metadata": {},
   "source": [
    "### About:\n",
    "In this type, we use **CHAINING** technique to resolve **Collision**"
   ]
  },
  {
   "cell_type": "markdown",
   "metadata": {},
   "source": [
    "# Algorithm\n",
    "\n",
    "- Hash Function - **`2*k + 3`**\n",
    "\n",
    "- To Use **Division method** - **h(K**<sub>**i**</sub>**)** = **K**<sub>**i**</sub> **% M** \n",
    "  where M - Length of the hash table \n",
    "  \n",
    "- Probe Method: **Chaining**   (Default if not given which Probe method to use)"
   ]
  },
  {
   "cell_type": "markdown",
   "metadata": {},
   "source": [
    "<img src = \"./images/Open_Addressing_Chaining.jpg\" />"
   ]
  },
  {
   "cell_type": "code",
   "execution_count": 5,
   "metadata": {},
   "outputs": [],
   "source": [
    "def hashing_closed_addressing(arr, M):\n",
    "    \"\"\"Implement Hash Table Structure using Closed Addressing and Chaining\"\"\"\n",
    "    N = len(arr)\n",
    "    hash_table = [[] for i in range(M)]  # A List of List \n",
    "    \n",
    "    for key in arr:\n",
    "        loc = (2 * key + 3) % 10\n",
    "        if hash_table[loc] is None:\n",
    "            hash_table[loc] = key\n",
    "        else:\n",
    "            hash_table[loc].append(key)\n",
    "            \n",
    "    return hash_table\n",
    "\n",
    "def display_hash_table_chain(hash_table):\n",
    "    N = len(hash_table)\n",
    "    \n",
    "    for i in range(N):\n",
    "        M = len(hash_table[i])\n",
    "        if M < 2:\n",
    "            print(hash_table[i])\n",
    "        else:\n",
    "            for j in range(M):\n",
    "                print(hash_table[i][j], end=\" \")\n",
    "            \n",
    "        \n",
    "        "
   ]
  },
  {
   "cell_type": "code",
   "execution_count": 6,
   "metadata": {},
   "outputs": [
    {
     "name": "stdout",
     "output_type": "stream",
     "text": [
      "[]\n",
      "[9]\n",
      "[]\n",
      "[]\n",
      "[]\n",
      "6 11 []\n",
      "2 7 12 []\n",
      "3 13 "
     ]
    }
   ],
   "source": [
    "arr  = [3, 2, 9, 6, 11, 13, 7, 12]\n",
    "M = 10\n",
    "hash_table = hashing_Open_addressing_chaining(arr, M)\n",
    "display_hash_table_chain(hash_table)"
   ]
  },
  {
   "cell_type": "code",
   "execution_count": null,
   "metadata": {},
   "outputs": [],
   "source": []
  }
 ],
 "metadata": {
  "kernelspec": {
   "display_name": "Python 3",
   "language": "python",
   "name": "python3"
  },
  "language_info": {
   "codemirror_mode": {
    "name": "ipython",
    "version": 3
   },
   "file_extension": ".py",
   "mimetype": "text/x-python",
   "name": "python",
   "nbconvert_exporter": "python",
   "pygments_lexer": "ipython3",
   "version": "3.7.6"
  }
 },
 "nbformat": 4,
 "nbformat_minor": 4
}
