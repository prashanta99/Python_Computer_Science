{
 "cells": [
  {
   "cell_type": "markdown",
   "metadata": {},
   "source": [
    "# Open Addressing - Double hashing"
   ]
  },
  {
   "cell_type": "markdown",
   "metadata": {},
   "source": [
    "Given:\n",
    "- Hashing function H1 = **(2 * Key) + 3**\n",
    "- Hashing function H2 = **(3 * Key) + 1**\n",
    "- Hash Table size = M = 10\n",
    "\n",
    "- To use Division Method for Hashing. \n",
    "\n",
    "- When collision occurs we will insert **Key** at first free place from **(U + V * i) % 10** where i = {0 to (m-1)}"
   ]
  },
  {
   "cell_type": "code",
   "execution_count": 23,
   "metadata": {},
   "outputs": [],
   "source": [
    "def DoubleHashing(arr, M):\n",
    "    hash_table = [None for i in range(M)]\n",
    "    probe_table = [1 for i in range(M)]\n",
    "    probe = 1\n",
    "    for key in arr:\n",
    "        hash_value = (2 * key + 3) % 10\n",
    "        if hash_table[hash_value] is None:\n",
    "            hash_table[hash_value] = key\n",
    "            probe_table[hash_value] = probe\n",
    "        else:\n",
    "            probe, index = get_location_DoubleHashing(key, hash_value, hash_table)\n",
    "            \n",
    "            if index != -1:\n",
    "                hash_table[index] = key\n",
    "                probe_table[index] = probe\n",
    "                \n",
    "    return probe_table, hash_table\n",
    "            \n",
    "\n",
    "def get_location_DoubleHashing(key, hash_value, hash_table):\n",
    "    M = len(hash_table)\n",
    "    probe = 1\n",
    "    U = hash_value\n",
    "    V = (3 * key + 1) % M  \n",
    "    for i in range(M):\n",
    "        probe += 1\n",
    "        new_loc = (U + V * i) % M\n",
    "        if hash_table[new_loc] is None:\n",
    "            return probe, new_loc\n",
    "\n",
    "    return -1, -1\n",
    "\n",
    "def display_probes_HashTable(probe_table, hash_table):\n",
    "    M = len(hash_table)\n",
    "    \n",
    "    print(\"Index | Key | Probe\")\n",
    "    for i in range(M):\n",
    "        if hash_table[i] == None:\n",
    "            key = \"-\"\n",
    "            probe = \"X\"\n",
    "        else:\n",
    "            key = hash_table[i]\n",
    "            probe = probe_table[i]\n",
    "            \n",
    "        print(i,\"    |  \", key, \" | \", probe)\n",
    "        \n",
    "    "
   ]
  },
  {
   "cell_type": "code",
   "execution_count": 24,
   "metadata": {},
   "outputs": [
    {
     "name": "stdout",
     "output_type": "stream",
     "text": [
      "[None, 9, None, 11, 12, 6, None, 2, None, 3]\n",
      "\n",
      "Index | Key | Probe\n",
      "0     |   -  |  X\n",
      "1     |   9  |  1\n",
      "2     |   -  |  X\n",
      "3     |   11  |  4\n",
      "4     |   12  |  3\n",
      "5     |   6  |  1\n",
      "6     |   -  |  X\n",
      "7     |   2  |  1\n",
      "8     |   -  |  X\n",
      "9     |   3  |  1\n"
     ]
    }
   ],
   "source": [
    "arr  = [3, 2, 9, 6, 11, 13, 7, 12]\n",
    "M = 10\n",
    "probe_table, hash_table = DoubleHashing(arr, M)\n",
    "print(hash_table)\n",
    "print()\n",
    "display_probes_HashTable(probe_table, hash_table)"
   ]
  },
  {
   "cell_type": "code",
   "execution_count": null,
   "metadata": {},
   "outputs": [],
   "source": []
  },
  {
   "cell_type": "code",
   "execution_count": null,
   "metadata": {},
   "outputs": [],
   "source": []
  }
 ],
 "metadata": {
  "kernelspec": {
   "display_name": "Python 3",
   "language": "python",
   "name": "python3"
  },
  "language_info": {
   "codemirror_mode": {
    "name": "ipython",
    "version": 3
   },
   "file_extension": ".py",
   "mimetype": "text/x-python",
   "name": "python",
   "nbconvert_exporter": "python",
   "pygments_lexer": "ipython3",
   "version": "3.7.6"
  }
 },
 "nbformat": 4,
 "nbformat_minor": 4
}
