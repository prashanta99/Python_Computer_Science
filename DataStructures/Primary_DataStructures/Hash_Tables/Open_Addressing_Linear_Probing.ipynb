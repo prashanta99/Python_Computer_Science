{
 "cells": [
  {
   "cell_type": "markdown",
   "metadata": {},
   "source": [
    "# Open Addressing Using Linear Probing"
   ]
  },
  {
   "cell_type": "markdown",
   "metadata": {},
   "source": [
    "Q: With Given \n",
    "- Hashing function **(2 * Key + 3)** and Using  Division Method for hashing, \n",
    "- use **Open Addressing** to store the values in hash Table\n",
    "\n",
    "- In this case we use **Linear Probing** technique to resolve the **Collision**. By default for Open Addressing we use Linear Probing technique unless otherwise specified to use \"Quadratic\" or \"Double Hashing\"\n",
    "\n",
    "- In Linear Probing, if the hashed index/slot is occupied then we check for the next cell if that too is occupied\n",
    "then we go to the next cell and this way continue going linearly until we find a FREE INDEX/SLOT"
   ]
  },
  {
   "cell_type": "markdown",
   "metadata": {},
   "source": [
    "<img src = \"./images/closed_adressing_hashing.jpg\" />"
   ]
  },
  {
   "cell_type": "code",
   "execution_count": 7,
   "metadata": {},
   "outputs": [],
   "source": [
    "def hashing_Closed_Adressing(arr, M):\n",
    "    N = len(arr)\n",
    "    probe_dict = {}\n",
    "    hash_table = [None for i in range(M)]\n",
    "    \n",
    "    for key in arr:\n",
    "        hashed_index = (2 * key + 3) % 10\n",
    "        if hash_table[hashed_index] is not None:\n",
    "            probe, hashed_index = get_location_using_Linear_Probe(key, hashed_index, hash_table)\n",
    "            if hashed_index == -1:\n",
    "                print(\"Redesign the hash_table Size as No Free cell was found to insert this key :\", key)\n",
    "                return None\n",
    "            else:\n",
    "                probe_dict[key] = probe   \n",
    "        hash_table[hashed_index] = key\n",
    "    return hash_table\n",
    "\n",
    "        \n",
    "def get_location_using_Linear_Probe(key, hashed_index, hash_table):\n",
    "    \"\"\"\n",
    "    Find free location for key using formula (hashed_index + i) % M\n",
    "    i - {0..M-1}\n",
    "    \"\"\"\n",
    "    M = len(hash_table)\n",
    "    i = hashed_index + 1\n",
    "    probe = 0\n",
    "    while probe <= M:\n",
    "        if i >= M - 1:\n",
    "            i = 0\n",
    "        probe += 1\n",
    "        if hash_table[i] is None:\n",
    "            return probe, i\n",
    "        else:\n",
    "            i += 1\n",
    "    \n",
    "    return probe, -1\n",
    "    "
   ]
  },
  {
   "cell_type": "code",
   "execution_count": 8,
   "metadata": {},
   "outputs": [
    {
     "name": "stdout",
     "output_type": "stream",
     "text": [
      "[13, 9, 12, None, None, 6, 11, 2, 7, 3]\n"
     ]
    }
   ],
   "source": [
    "arr  = [3, 2, 9, 6, 11, 13, 7, 12]\n",
    "M = 10\n",
    "hash_table = hashing_Closed_Adressing(arr, M)\n",
    "print(hash_table)"
   ]
  },
  {
   "cell_type": "code",
   "execution_count": null,
   "metadata": {},
   "outputs": [],
   "source": []
  }
 ],
 "metadata": {
  "kernelspec": {
   "display_name": "Python 3",
   "language": "python",
   "name": "python3"
  },
  "language_info": {
   "codemirror_mode": {
    "name": "ipython",
    "version": 3
   },
   "file_extension": ".py",
   "mimetype": "text/x-python",
   "name": "python",
   "nbconvert_exporter": "python",
   "pygments_lexer": "ipython3",
   "version": "3.7.6"
  }
 },
 "nbformat": 4,
 "nbformat_minor": 4
}
