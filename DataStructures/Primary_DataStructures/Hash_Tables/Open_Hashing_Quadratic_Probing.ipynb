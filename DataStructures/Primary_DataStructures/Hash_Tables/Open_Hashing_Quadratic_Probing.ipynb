{
 "cells": [
  {
   "cell_type": "markdown",
   "metadata": {},
   "source": [
    "# Open Hashing - Quadratic Probing"
   ]
  },
  {
   "cell_type": "markdown",
   "metadata": {},
   "source": [
    "Given:\n",
    "- Hashing function H1 = **(2 * Key) + 3**   \n",
    "  **`Note:`** This Hashing function can be any function, this is one example\n",
    "- Hash Table size = M = 10\n",
    "\n",
    "\n",
    "- To use **`Division Method`** for Hashing.\n",
    "\n",
    "- For Collision we will use Quadratic Probing \n",
    "\n",
    "\n",
    "- **`Quadratic Probing:`** In this technique, when collision occurs we will insert **Key** at first free place from **(U + i<sup>2</sup>) % M** where i = {0 to (m-1)}\n",
    "where U -> is the first Hashed Index found using the Hash function H1 above."
   ]
  },
  {
   "cell_type": "markdown",
   "metadata": {},
   "source": [
    "<img src=\"./images/Quadratic_Probing.png\"/>"
   ]
  },
  {
   "cell_type": "code",
   "execution_count": 1,
   "metadata": {},
   "outputs": [],
   "source": [
    "def Open_Addressing_hashing(arr, M):\n",
    "    hash_table = [None for i in range(M)]\n",
    "    probes = []\n",
    "    for key in arr:\n",
    "        probes_num = 0\n",
    "        hashed_index = (2 * key + 3) % M\n",
    "        if hash_table[hashed_index] is not None:\n",
    "            probes_num, hashed_index = quadratic_probing(M, hashed_index, hash_table)\n",
    "            if hashed_index == -1:\n",
    "                print(f\"No open Slot was found for Key: {Key}, Rebuild using different M\")\n",
    "                return None\n",
    "        probes.append(probes_num)\n",
    "        hash_table[hashed_index] = key\n",
    "    \n",
    "    return hash_table\n",
    "\n",
    "def quadratic_probing(M, U, hash_table):\n",
    "    # To use (U + i**2) % M to find the free slot\n",
    "    # U = Collided index\n",
    "    i = 0\n",
    "    probes = 0\n",
    "    while i < M:\n",
    "        probes += 1\n",
    "        new_index = (U + i**2) % M\n",
    "        if hash_table[new_index] is None:\n",
    "            return probes, new_index\n",
    "        i += 1\n",
    "        \n",
    "    return probes -1\n",
    "        "
   ]
  },
  {
   "cell_type": "code",
   "execution_count": 2,
   "metadata": {},
   "outputs": [
    {
     "name": "stdout",
     "output_type": "stream",
     "text": [
      "[13, 9, None, 12, None, 6, 11, 2, 7, 3]\n"
     ]
    }
   ],
   "source": [
    "arr  = [3, 2, 9, 6, 11, 13, 7, 12]\n",
    "M = 10\n",
    "hash_table = Open_Addressing_hashing(arr, M)\n",
    "print(hash_table)"
   ]
  },
  {
   "cell_type": "code",
   "execution_count": null,
   "metadata": {},
   "outputs": [],
   "source": []
  }
 ],
 "metadata": {
  "kernelspec": {
   "display_name": "Python 3",
   "language": "python",
   "name": "python3"
  },
  "language_info": {
   "codemirror_mode": {
    "name": "ipython",
    "version": 3
   },
   "file_extension": ".py",
   "mimetype": "text/x-python",
   "name": "python",
   "nbconvert_exporter": "python",
   "pygments_lexer": "ipython3",
   "version": "3.7.6"
  }
 },
 "nbformat": 4,
 "nbformat_minor": 4
}
