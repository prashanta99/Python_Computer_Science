{
 "cells": [
  {
   "cell_type": "markdown",
   "metadata": {},
   "source": [
    "# Implemenation of Queue using Pointers"
   ]
  },
  {
   "cell_type": "markdown",
   "metadata": {},
   "source": [
    "### Step-1. Create Node Class"
   ]
  },
  {
   "cell_type": "code",
   "execution_count": 1,
   "metadata": {},
   "outputs": [],
   "source": [
    "class Node:\n",
    "    def __init__(self, value):\n",
    "        self.value = value\n",
    "        self.next = None"
   ]
  },
  {
   "cell_type": "markdown",
   "metadata": {},
   "source": [
    "## Step-2 Create Queue Class"
   ]
  },
  {
   "cell_type": "code",
   "execution_count": 2,
   "metadata": {},
   "outputs": [],
   "source": [
    "class Queue:\n",
    "    def __init__(self):\n",
    "        self.front = None\n",
    "        self.end = None\n",
    "        self.size = 0\n",
    "        \n",
    "    ## Add element to the Queue   \n",
    "    def enqueue(self, value):\n",
    "        temp = Node(value)\n",
    "        \n",
    "        if self.size == 0:\n",
    "            self.front = temp\n",
    "            self.end = temp\n",
    "        \n",
    "        elif self.size == 1:\n",
    "            self.front.next = temp\n",
    "            self.end = temp\n",
    "            \n",
    "        else:\n",
    "            self.end.next = temp\n",
    "            self.end = temp\n",
    "        \n",
    "        self.size += 1\n",
    "        \n",
    "    ## remove an element in Queue which is in front\n",
    "    def dequeue(self):\n",
    "        if self.size == 0:\n",
    "            print(\"No elements in the Queue\")\n",
    "            return\n",
    "        if self.size == 1:\n",
    "            temp = self.front.value\n",
    "            self.front = None\n",
    "            self.end = None\n",
    "\n",
    "        else:\n",
    "            temp = self.front.value\n",
    "            self.front = self.front.next\n",
    "            \n",
    "        self.size -= 1\n",
    "        return temp\n",
    "    \n",
    "    def isEmpty(self):\n",
    "        return self.size == 0\n",
    "        \n",
    "        \n",
    "    def getsize(self):\n",
    "        return self.size\n",
    "    \n",
    "    def getfront(self):\n",
    "        return self.front.value\n",
    "    \n",
    "    def getend(self):\n",
    "        return self.end.value"
   ]
  },
  {
   "cell_type": "markdown",
   "metadata": {},
   "source": [
    "## Test the Queue"
   ]
  },
  {
   "cell_type": "code",
   "execution_count": null,
   "metadata": {},
   "outputs": [],
   "source": [
    "def main():  \n",
    "    q = Queue()\n",
    "    \n",
    "    q.enqueue(10)\n",
    "    q.enqueue(20)\n",
    "    q.enqueue(30)\n",
    "    q.enqueue(40)\n",
    "    q.enqueue(50)\n",
    "    \n",
    "    print(f\"Front = {q.getfront()}  End={q.getend()}  Size = {q.getsize()}\")\n",
    "    print(f\"Removed from queue  :\", q.dequeue())\n",
    "    print(f\"Front = {q.getfront()}  End={q.getend()}  Size = {q.getsize()}\")\n",
    "    print(f\"Removed from Queue :\", q.dequeue())\n",
    "    print(f\"Removed from Queue  :\", q.dequeue())\n",
    "    print(f\"Front = {q.getfront()}  End={q.getend()}  Size = {q.getsize()}\")\n",
    "    q.enqueue(70)\n",
    "    q.enqueue(80)\n",
    "    print(f\"Front = {q.getfront()}  End={q.getend()}  Size = {q.getsize()}\")\n",
    "    \n",
    "if __name__ == '__main__':\n",
    "    main()\n",
    "        "
   ]
  }
 ],
 "metadata": {
  "kernelspec": {
   "display_name": "Python 3",
   "language": "python",
   "name": "python3"
  },
  "language_info": {
   "codemirror_mode": {
    "name": "ipython",
    "version": 3
   },
   "file_extension": ".py",
   "mimetype": "text/x-python",
   "name": "python",
   "nbconvert_exporter": "python",
   "pygments_lexer": "ipython3",
   "version": "3.7.6"
  }
 },
 "nbformat": 4,
 "nbformat_minor": 4
}
