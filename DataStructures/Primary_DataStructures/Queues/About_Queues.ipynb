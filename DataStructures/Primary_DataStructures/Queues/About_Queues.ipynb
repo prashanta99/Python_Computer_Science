{
 "cells": [
  {
   "cell_type": "markdown",
   "metadata": {},
   "source": [
    "# QUEUE Data Structure"
   ]
  },
  {
   "cell_type": "markdown",
   "metadata": {},
   "source": [
    "## About:\n",
    "\n",
    "Queues are abstract Datatypes and they are collection of elements\n",
    "Stacks work on FIFO principle - First In First out <br>\n",
    "Queues are usually implemented using Arrays. They can be implemented using Pointers too.\n",
    "\n",
    "There are two types of Basic Queues\n",
    "1. Single-Ended Queue: In this Queue, elements are added from one end (called Head/Left) and removed from another end(called Tail/Right)<br>\n",
    "2. Double-Ended Queue: In this Queue, elements are added from either left or right end and similarly they can be removed from either end:\n",
    "\n",
    "Other advanced implementations are:\n",
    "3. Priority Queues: This are similar to basic queues except that the elements will have priorities assigned to them. Higher priority elements will be retrieved first before lower priority element.<br>\n",
    "4. Circular Queues: This are queues with fixed size. old elements are removed/replaced as new elements come in\n",
    "\n",
    "image - courtesy : https://en.wikipedia.org/wiki/Queue_(abstract_data_type)\n",
    "\n",
    "<img src = \"./images/Data_Queue.png\"/>\n"
   ]
  },
  {
   "cell_type": "markdown",
   "metadata": {},
   "source": [
    "## Queue Functions\n",
    "Below are two main functions of Queue Data Structure\n",
    "\n",
    "\n",
    "- `enqueue` : Add elements from left and \n",
    "\n",
    "\n",
    "- `dequeue` : Remove elements from right\n",
    "\n",
    "\n",
    "### Additional Supporting Functions:\n",
    "\n",
    "- `pop`: Remove the first element of the Queue - in Single ended Queue\n",
    "\n",
    "- `popleft` : Remove the last element from left end - in Double ended Queue\n",
    "\n",
    "- `popright` : Remove the last element from right end - in Double ended Queue\n",
    "\n",
    "- `IsEmpty`: Check to see if the Queue is empty.\n",
    "\n",
    "- `getfront`: return the first element in the queue\n",
    "\n",
    "- `getend`: return the last element in the queue\n",
    "\n",
    "- `size` return the size of the queue \n"
   ]
  }
 ],
 "metadata": {
  "kernelspec": {
   "display_name": "Python 3",
   "language": "python",
   "name": "python3"
  },
  "language_info": {
   "codemirror_mode": {
    "name": "ipython",
    "version": 3
   },
   "file_extension": ".py",
   "mimetype": "text/x-python",
   "name": "python",
   "nbconvert_exporter": "python",
   "pygments_lexer": "ipython3",
   "version": "3.7.6"
  }
 },
 "nbformat": 4,
 "nbformat_minor": 4
}
