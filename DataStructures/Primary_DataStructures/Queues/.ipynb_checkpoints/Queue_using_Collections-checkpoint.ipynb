{
 "cells": [
  {
   "cell_type": "markdown",
   "metadata": {},
   "source": [
    "# Implementation of Queue using deque from Collection library\n",
    "\n",
    "\n",
    "**`Note:`** collections.deque gives a double ended queue\n",
    "   "
   ]
  },
  {
   "cell_type": "code",
   "execution_count": 1,
   "metadata": {},
   "outputs": [
    {
     "name": "stdout",
     "output_type": "stream",
     "text": [
      "deque([0, 10, 20, 30, 40, 50, 60, 70, 80, 90])\n",
      "First poped should be 0 : 0\n",
      "Second poped should be 10 : 10\n",
      "Length of q : 8\n",
      "20\n",
      "30\n",
      "40\n",
      "50\n",
      "60\n",
      "70\n",
      "80\n",
      "90\n"
     ]
    }
   ],
   "source": [
    "from collections import deque;\n",
    "\n",
    "q = deque()\n",
    "\n",
    "for i in range(10):\n",
    "    q.append(i * 10)\n",
    "    \n",
    "print(q)\n",
    "\n",
    "# Dequeue from the queue\n",
    "if __name__ == '__main__':\n",
    "\n",
    "    a = q.popleft()\n",
    "    print(\"First poped should be 0 :\", a)\n",
    "    \n",
    "    print(\"Second poped should be 10 :\", q.popleft())\n",
    "    \n",
    "    print(\"Length of q :\", len(q))\n",
    "    \n",
    "    for i in range(len(q)):\n",
    "        print(q[i])\n",
    "        \n",
    "\n",
    "        "
   ]
  },
  {
   "cell_type": "markdown",
   "metadata": {},
   "source": [
    "## Another Example"
   ]
  },
  {
   "cell_type": "markdown",
   "metadata": {},
   "source": [
    "## Using some more methods available in Collections.deque\n",
    "\n",
    "### Basic Methods provided for deque\n",
    "- **`append`**      -- appends element to left\n",
    "\n",
    "- **`appendleft`**  -- appends element to right\n",
    "\n",
    "- **`pop`**         -- deletes element from right\n",
    "\n",
    "- **`popleft`**     -- deletes element from left\n",
    "\n",
    "Additional Methods provided are:\n",
    "- **`reverse()`**  -- Reverse order of dequeu elements\n",
    "\n",
    "- **`rotate()`**   -- Rotate the queue by number specified in the argument. \n",
    "              Default rotoation is clockwise (right)\n",
    "              if value=-1 -> rotoation is Anticlockwise (left)\n",
    "\n",
    "- **`extend`**     -- Add list of values at right end\n",
    "\n",
    "- **`extendleft`** -- Add list of values at left end"
   ]
  },
  {
   "cell_type": "code",
   "execution_count": 2,
   "metadata": {},
   "outputs": [
    {
     "name": "stdout",
     "output_type": "stream",
     "text": [
      "deque([-6, -5, -4, -3, -2, 10, 20, 30, 40, 50])\n",
      "Length of queue : 10\n",
      "Pop Right element: 50\n",
      "Pop left element: -6\n",
      "Pop Right element: 40\n",
      "Pop left element: -5\n",
      "Length of queue after popping 4 elements: 6\n",
      "\n",
      "current Queue : deque([-4, -3, -2, 10, 20, 30])\n",
      "Reverse Queue : deque([30, 20, 10, -2, -3, -4])\n",
      "Reverse Queue again : deque([-4, -3, -2, 10, 20, 30])\n",
      "Rotate Queue by 1 on right : deque([30, -4, -3, -2, 10, 20])\n"
     ]
    }
   ],
   "source": [
    "import collections\n",
    "\n",
    "queue = collections.deque()\n",
    "queue.append(10)\n",
    "queue.append(20)\n",
    "queue.append(30)\n",
    "queue.append(40)\n",
    "queue.append(50)\n",
    "queue.appendleft(-2)\n",
    "queue.appendleft(-3)\n",
    "queue.appendleft(-4)\n",
    "queue.appendleft(-5)\n",
    "queue.appendleft(-6)\n",
    "\n",
    "print(queue)\n",
    "print(\"Length of queue :\", len(queue))\n",
    "print(\"Pop Right element:\", queue.pop())\n",
    "print(\"Pop left element:\", queue.popleft())\n",
    "print(\"Pop Right element:\", queue.pop())\n",
    "print(\"Pop left element:\", queue.popleft())\n",
    "\n",
    "print(\"Length of queue after popping 4 elements:\", len(queue))\n",
    "\n",
    "print()\n",
    "print(\"current Queue :\", queue)\n",
    "queue.reverse()\n",
    "print(\"Reverse Queue :\", queue)\n",
    "\n",
    "queue.reverse()\n",
    "print(\"Reverse Queue again :\", queue)\n",
    "queue.rotate(1)\n",
    "print(\"Rotate Queue by 1 on right :\", queue )\n"
   ]
  },
  {
   "cell_type": "code",
   "execution_count": null,
   "metadata": {},
   "outputs": [],
   "source": []
  }
 ],
 "metadata": {
  "kernelspec": {
   "display_name": "Python 3",
   "language": "python",
   "name": "python3"
  },
  "language_info": {
   "codemirror_mode": {
    "name": "ipython",
    "version": 3
   },
   "file_extension": ".py",
   "mimetype": "text/x-python",
   "name": "python",
   "nbconvert_exporter": "python",
   "pygments_lexer": "ipython3",
   "version": "3.7.6"
  }
 },
 "nbformat": 4,
 "nbformat_minor": 4
}
