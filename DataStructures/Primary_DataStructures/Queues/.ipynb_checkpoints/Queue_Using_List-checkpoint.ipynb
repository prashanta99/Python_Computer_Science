{
 "cells": [
  {
   "cell_type": "markdown",
   "metadata": {},
   "source": [
    "# Implemention of Queue using Python List "
   ]
  },
  {
   "cell_type": "code",
   "execution_count": 1,
   "metadata": {},
   "outputs": [],
   "source": [
    "class Queue():\n",
    "    \"\"\"\n",
    "    Basic Operations of Queue : \n",
    "        push, \n",
    "        pop - Left most (0th) element, \n",
    "        peek - shows the first element in the queue\n",
    "        getsize\n",
    "    queue operates on FIFO principal - First In First Out\n",
    "    \"\"\"\n",
    "    def __init__(self):\n",
    "        self.qlist = []\n",
    "    \n",
    "    def push(self, value):\n",
    "        self.qlist.append(value)\n",
    "    \n",
    "    def popleft(self):\n",
    "        self.qlist.pop(0)\n",
    "    \n",
    "    def popright(self):\n",
    "        self.qlist.pop()\n",
    "        \n",
    "    def peekleft(self):\n",
    "        return self.qlist[0]\n",
    "    \n",
    "    def peekright(self):\n",
    "        return self.qlist[-1]\n",
    "\n",
    " \n",
    "    def getsize(self):\n",
    "        return len(self.qlist)\n",
    "    \n",
    "    def isempty(self):\n",
    "        return (len(self.qlist)) == 0\n",
    "    "
   ]
  },
  {
   "cell_type": "markdown",
   "metadata": {},
   "source": [
    "## Testing the code"
   ]
  },
  {
   "cell_type": "code",
   "execution_count": 2,
   "metadata": {},
   "outputs": [
    {
     "name": "stdout",
     "output_type": "stream",
     "text": [
      "size of queue:  7\n",
      "Peek left (first) element in queue:  10\n",
      "Peek right (last) element in queue:  200\n",
      "Pop from left in queue:  None\n",
      "Pop from right in queue:  None\n",
      "Peek left (first) element in queue:  20\n",
      "Peek right (last) element in queue:  -20\n",
      "size of queue:  5\n"
     ]
    }
   ],
   "source": [
    "## Test code\n",
    "if __name__ == '__main__':\n",
    "    newqueue = Queue()\n",
    "    newqueue.push(10)\n",
    "    newqueue.push(20)\n",
    "    newqueue.push(30)\n",
    "    newqueue.push(40)\n",
    "    newqueue.push(0)\n",
    "    newqueue.push(-20)\n",
    "    newqueue.push(200)\n",
    "    \n",
    "    \n",
    "    print(\"size of queue: \", newqueue.getsize())\n",
    "    assert newqueue.getsize() == 7\n",
    "    \n",
    "    print(\"Peek left (first) element in queue: \",  newqueue.peekleft())\n",
    "    assert newqueue.peekleft() == 10\n",
    "    \n",
    "    print(\"Peek right (last) element in queue: \",  newqueue.peekright())\n",
    "    assert newqueue.peekright() == 200\n",
    "    \n",
    "    print(\"Pop from left in queue: \", newqueue.popleft())\n",
    "    print(\"Pop from right in queue: \", newqueue.popright())\n",
    "    \n",
    "    print(\"Peek left (first) element in queue: \",  newqueue.peekleft())\n",
    "    assert newqueue.peekleft() == 20\n",
    "    \n",
    "    print(\"Peek right (last) element in queue: \",  newqueue.peekright())\n",
    "    assert newqueue.peekright() == -20\n",
    "    \n",
    "    print(\"size of queue: \", newqueue.getsize())\n",
    "    assert newqueue.getsize() == 5\n",
    "    "
   ]
  },
  {
   "cell_type": "code",
   "execution_count": null,
   "metadata": {},
   "outputs": [],
   "source": []
  }
 ],
 "metadata": {
  "kernelspec": {
   "display_name": "Python 3",
   "language": "python",
   "name": "python3"
  },
  "language_info": {
   "codemirror_mode": {
    "name": "ipython",
    "version": 3
   },
   "file_extension": ".py",
   "mimetype": "text/x-python",
   "name": "python",
   "nbconvert_exporter": "python",
   "pygments_lexer": "ipython3",
   "version": "3.7.6"
  }
 },
 "nbformat": 4,
 "nbformat_minor": 4
}
