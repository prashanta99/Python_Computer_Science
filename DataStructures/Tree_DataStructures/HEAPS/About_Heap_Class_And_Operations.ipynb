{
 "cells": [
  {
   "cell_type": "markdown",
   "metadata": {},
   "source": [
    "# Heap Class and Heap Operations\n",
    "\n",
    "The Heap_Class.ipynb contains following:\n",
    "\n",
    "**`Private Variables`**:<br>\n",
    "- **self.heap:** It is Python list containing the array elements organized in Heap Structure\n",
    "- **self.heap_type:** Tracks if the Heap is MinHeap or MaxHeap \n",
    "- **self.heap_size** Tracks Heap Size\n",
    "\n",
    "**`Class Methods`**:<br>\n",
    "**build_heap**: This method is used to build heap structure from a given array\n",
    "\n",
    "**insert**: This method is used to add an element in the heap struture and calls heapify_UP method to ensure the heap properties are preserved\n",
    "\n",
    "**delete**: This method is used to delete an element from the heap structure and calls heapify_DOWN method to ensure the heap properties are preserved\n",
    "\n",
    "**heapify_UP**: This method is called from the **insert** method when a new element is **inserted** to the heap structure. It scans the heap with a bottom-up approach starting from the newly added element(which is the last node in the structure and going up until it the heap properties are as desired.\n",
    "\n",
    "\n",
    "**heapify_DOWN**: This method is called from the **delete** method when a element is **deleted** from the heap structure. It scans the heap with Top-Down approach starting from the element to be deleted. In this method\n",
    "1. Find the index of the element to be deleted\n",
    "2. Swap the last node element with the element to be deleted\n",
    "2. Pop out the last node element (which is the element we wanted to delete)\n",
    "3. Starting from the original index of the element to be deleted, Go down the heap structure to ensure Heap properties    are met \n",
    "\n",
    "\n",
    "**get_array():**: This method returns the heap array (self.heap)\n",
    "\n",
    "\n",
    "**get_heap_size():**: This method returns the size of the heap\n",
    "\n"
   ]
  },
  {
   "cell_type": "code",
   "execution_count": null,
   "metadata": {},
   "outputs": [],
   "source": []
  }
 ],
 "metadata": {
  "kernelspec": {
   "display_name": "Python 3",
   "language": "python",
   "name": "python3"
  },
  "language_info": {
   "codemirror_mode": {
    "name": "ipython",
    "version": 3
   },
   "file_extension": ".py",
   "mimetype": "text/x-python",
   "name": "python",
   "nbconvert_exporter": "python",
   "pygments_lexer": "ipython3",
   "version": "3.7.6"
  }
 },
 "nbformat": 4,
 "nbformat_minor": 4
}
