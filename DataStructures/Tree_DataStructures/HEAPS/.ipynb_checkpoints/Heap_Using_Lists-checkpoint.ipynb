{
 "cells": [
  {
   "cell_type": "markdown",
   "metadata": {},
   "source": [
    "# Implementation of Heap data structure using python List\n",
    "\n",
    "In this class, the attempt is to include use as many operations as possible that are performed on a heap\n",
    "\n",
    "Following operations (methods) are implemented in this class\n",
    "- Building a heap data structure from a given list of elements\n",
    "- Insert a new element in existing Heap\n",
    "- Delete an element from existing Heap\n",
    "- Get the Max element from MaxHeap. or Min Element from MinHeap\n",
    "- Know of the Heap is MinHeap or MaxHeap\n",
    "- Know the Size of the Heap"
   ]
  },
  {
   "cell_type": "code",
   "execution_count": 16,
   "metadata": {},
   "outputs": [],
   "source": [
    "class Heap():\n",
    "    def __init__(self, arr, heaptype = \"Min\"):     #heaptype : Min/Max\n",
    "        self.heap_type = 1 if heaptype == \"Max\" else -1\n",
    "        self.heap = []\n",
    "        self.heap_size = 0\n",
    "        self.build_heap(arr)\n",
    "        \n",
    "    def build_heap(self, arr):\n",
    "        for num in arr:\n",
    "            self.insert(num)\n",
    "        \n",
    "            \n",
    "    def insert(self, num):\n",
    "        self.heap.append(num)\n",
    "        self.heapify_UP()\n",
    "        self.heap_size = len(self.heap)\n",
    "        \n",
    "    def heapify_UP(self):\n",
    "        N = len(self.heap)\n",
    "        child_index = N - 1    ## This is index of newly inserted node/element\n",
    "        while child_index > 0:\n",
    "            parent_index = child_index//2 \n",
    "            if child_index == parent_index:\n",
    "                break\n",
    "            else:\n",
    "                if (self.heap[parent_index] - self.heap[child_index]) * self.heap_type > 0:\n",
    "                    break\n",
    "                else:\n",
    "                    self.heap[parent_index], self.heap[child_index] = self.heap[child_index], self.heap[parent_index]\n",
    "                    child_index = parent_index\n",
    "                                \n",
    "    def delete(self, num):\n",
    "        num_index = self.heap.index(num)\n",
    "        self.heap[-1], self.heap[num_index] = self.heap[num_index], self.heap[-1]\n",
    "        self.heap.pop()\n",
    "        self.heapify_DOWN(num_index)\n",
    "        self.heap_size = len(self.heap)\n",
    "        \n",
    "        \n",
    "    def heapify_DOWN(self, num_index):\n",
    "        parent_index = num_index\n",
    "        N = len(self.heap)\n",
    "        largest_index = 0\n",
    "        left_child_index = 2 * parent_index + 1\n",
    "        right_child_index = 2 * parent_index + 2\n",
    "        while left_child_index < N or right_child_index < N:\n",
    "            \n",
    "            if left_child_index < (N - 1):\n",
    "                if (self.heap[parent_index] - self.heap[left_child_index]) * self.heap_type < 0:\n",
    "                    self.heap[parent_index], self.heap[left_child_index] = self.heap[left_child_index], self.heap[parent_index] \n",
    "                    largest_index = left_child_index\n",
    "            if right_child_index < (N - 1):\n",
    "                if (self.heap[parent_index] - self.heap[right_child_index]) * self.heap_type < 0:\n",
    "                    self.heap[parent_index], self.heap[right_child_index] = self.heap[right_child_index], self.heap[parent_index]\n",
    "                    largest_index = right_child_index\n",
    "            if parent_index == largest_index:\n",
    "                break\n",
    "            \n",
    "            left_child_index = 2 * parent_index + 1\n",
    "            right_child_index = 2 * parent_index + 2\n",
    "            parent_index = largest_index\n",
    "            \n",
    "    \n",
    "    def get_array(self):\n",
    "         if len(self.heap) > 0: \n",
    "            return self.heap\n",
    "        \n",
    "    def get_heap_size(self):\n",
    "        return self.heap_size\n",
    "                 "
   ]
  },
  {
   "cell_type": "markdown",
   "metadata": {},
   "source": [
    "## Min Heap Test"
   ]
  },
  {
   "cell_type": "code",
   "execution_count": 19,
   "metadata": {},
   "outputs": [],
   "source": [
    "arr = [70, 60, 40, 45, 50, 39, 16, 10, 9, 35]\n",
    "newHeap = Heap(arr, \"Min\")"
   ]
  },
  {
   "cell_type": "code",
   "execution_count": 20,
   "metadata": {},
   "outputs": [
    {
     "name": "stdout",
     "output_type": "stream",
     "text": [
      "[9, 10, 16, 39, 35, 50, 60, 40, 70, 45]\n"
     ]
    }
   ],
   "source": [
    "print(newHeap.get_array())"
   ]
  },
  {
   "cell_type": "code",
   "execution_count": 21,
   "metadata": {},
   "outputs": [],
   "source": [
    "newHeap.delete(50)"
   ]
  },
  {
   "cell_type": "code",
   "execution_count": 22,
   "metadata": {},
   "outputs": [
    {
     "name": "stdout",
     "output_type": "stream",
     "text": [
      "[9, 10, 16, 39, 35, 45, 60, 40, 70]\n"
     ]
    }
   ],
   "source": [
    "print(newHeap.get_array())"
   ]
  },
  {
   "cell_type": "code",
   "execution_count": 24,
   "metadata": {},
   "outputs": [
    {
     "name": "stdout",
     "output_type": "stream",
     "text": [
      "9\n"
     ]
    }
   ],
   "source": [
    "print(newHeap.get_heap_size())"
   ]
  },
  {
   "cell_type": "code",
   "execution_count": 25,
   "metadata": {},
   "outputs": [],
   "source": [
    "newHeap.insert(100)"
   ]
  },
  {
   "cell_type": "code",
   "execution_count": 27,
   "metadata": {},
   "outputs": [
    {
     "name": "stdout",
     "output_type": "stream",
     "text": [
      "[9, 10, 16, 39, 35, 45, 60, 40, 70, 100]\n"
     ]
    }
   ],
   "source": [
    "print(newHeap.get_array())"
   ]
  },
  {
   "cell_type": "markdown",
   "metadata": {},
   "source": [
    "## Max Heap test"
   ]
  },
  {
   "cell_type": "code",
   "execution_count": 28,
   "metadata": {},
   "outputs": [],
   "source": [
    "arr = [70, 60, 40, 45, 50, 39, 16, 10, 9, 35]\n",
    "maxHeap = Heap(arr, \"Max\")"
   ]
  },
  {
   "cell_type": "code",
   "execution_count": 30,
   "metadata": {},
   "outputs": [
    {
     "name": "stdout",
     "output_type": "stream",
     "text": [
      "[70, 60, 50, 45, 40, 39, 16, 10, 9, 35]\n"
     ]
    }
   ],
   "source": [
    "print(maxHeap.get_array())"
   ]
  },
  {
   "cell_type": "code",
   "execution_count": 31,
   "metadata": {},
   "outputs": [],
   "source": [
    "# Insert a new Element\n",
    "maxHeap.insert(30)"
   ]
  },
  {
   "cell_type": "code",
   "execution_count": 32,
   "metadata": {},
   "outputs": [
    {
     "data": {
      "text/plain": [
       "[70, 60, 50, 45, 40, 39, 16, 10, 9, 35, 30]"
      ]
     },
     "execution_count": 32,
     "metadata": {},
     "output_type": "execute_result"
    }
   ],
   "source": [
    "maxHeap.get_array()"
   ]
  },
  {
   "cell_type": "code",
   "execution_count": 33,
   "metadata": {},
   "outputs": [],
   "source": [
    "maxHeap.insert(200)"
   ]
  },
  {
   "cell_type": "code",
   "execution_count": 34,
   "metadata": {},
   "outputs": [
    {
     "data": {
      "text/plain": [
       "[200, 70, 60, 45, 40, 50, 16, 10, 9, 35, 30, 39]"
      ]
     },
     "execution_count": 34,
     "metadata": {},
     "output_type": "execute_result"
    }
   ],
   "source": [
    "maxHeap.get_array()"
   ]
  },
  {
   "cell_type": "code",
   "execution_count": 35,
   "metadata": {},
   "outputs": [],
   "source": [
    "maxHeap.delete(45)"
   ]
  },
  {
   "cell_type": "code",
   "execution_count": 37,
   "metadata": {},
   "outputs": [
    {
     "data": {
      "text/plain": [
       "[200, 70, 60, 39, 40, 50, 16, 10, 9, 35, 30]"
      ]
     },
     "execution_count": 37,
     "metadata": {},
     "output_type": "execute_result"
    }
   ],
   "source": [
    "maxHeap.get_array()"
   ]
  },
  {
   "cell_type": "code",
   "execution_count": 38,
   "metadata": {},
   "outputs": [],
   "source": [
    "maxHeap.delete(200)"
   ]
  },
  {
   "cell_type": "code",
   "execution_count": 39,
   "metadata": {},
   "outputs": [
    {
     "data": {
      "text/plain": [
       "[70, 60, 40, 30, 50, 39, 16, 10, 9, 35]"
      ]
     },
     "execution_count": 39,
     "metadata": {},
     "output_type": "execute_result"
    }
   ],
   "source": [
    "maxHeap.get_array()"
   ]
  },
  {
   "cell_type": "code",
   "execution_count": null,
   "metadata": {},
   "outputs": [],
   "source": []
  }
 ],
 "metadata": {
  "kernelspec": {
   "display_name": "Python 3",
   "language": "python",
   "name": "python3"
  },
  "language_info": {
   "codemirror_mode": {
    "name": "ipython",
    "version": 3
   },
   "file_extension": ".py",
   "mimetype": "text/x-python",
   "name": "python",
   "nbconvert_exporter": "python",
   "pygments_lexer": "ipython3",
   "version": "3.7.6"
  }
 },
 "nbformat": 4,
 "nbformat_minor": 4
}
