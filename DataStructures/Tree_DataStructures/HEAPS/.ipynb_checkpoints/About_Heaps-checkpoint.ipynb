{
 "cells": [
  {
   "cell_type": "markdown",
   "metadata": {},
   "source": [
    "# Heap\n",
    "\n",
    "### About:\n",
    "\n",
    "- A heap is a specialized tree-based data structure. It is **Complete or Almost Complete Binary Tree** that satisfies **heap properties.**\n",
    "\n",
    "- A heap is an efficient implementation of a **Priority Queue**\n",
    "\n",
    "- One of the application of heap is its use in **Dijkstra's algorithm**.\n",
    "\n",
    "- It is usefule in applications where it is necessary to remove the highest/lowest element repeatedly.\n",
    "\n",
    "- to **sort** (heapsort) an array **inplace**"
   ]
  },
  {
   "cell_type": "markdown",
   "metadata": {},
   "source": [
    "### Operations\n",
    "\n",
    "1. **CREATE_heap:** Create heap from a given array of elements\n",
    "\n",
    "\n",
    "2. **get_max:** Return the root node (which is the max element in Max Heap)\n",
    "3. **get_min:** Return the root node (which is the min element in Min Heap)\n",
    "\n",
    "Note: Heapify is process of scanning the nodes to ensure heap properties are balanced\n",
    "\n",
    "4. **INSERT:** Insert a node in the heap. A new node is always inserted at the top First<br>\n",
    "**heapify_up:** After node insertion at the end of heap, we trace through the heap from bottom going upto the root. We shuffle the nodes to maintain the heap property.\n",
    "\n",
    "\n",
    "5. **DELETE:** Delete a node from the heap. The Node to be deleted is replace by the last leaf node and then starting from that node we heapify down to ensure heap properties are preserved.<br> \n",
    "**heapify_down:** After a node is deleted, starting from that node we inspect the heap structure going down until the last leaf of that tree structure.\n",
    "\n"
   ]
  },
  {
   "cell_type": "markdown",
   "metadata": {},
   "source": [
    "## Binary Tree\n",
    "\n",
    "### Complete Binary Tree:\n",
    "Is a Binary tree whose all levels are completely Filled\n",
    "\n",
    "<img src = \"./images/complete_binary_tree.png\" />\n",
    "\n",
    "### Almost Complete Binary Tree:\n",
    "Is a Binary Tree whose all levels are filled except last level and last level is filled as LEFT as possible\n",
    "<img src = \"./images/Almost_complete_binary_tree.png\" />\n",
    "\n",
    "**source**: https://www.quora.com/What-is-a-nearly-complete-binary-tree"
   ]
  },
  {
   "cell_type": "markdown",
   "metadata": {},
   "source": [
    "## Two Types of Heaps\n",
    "\n",
    "1. **Min Heap**\n",
    "2. **Max Heap**\n",
    "\n",
    "<img src=\"./images/Min_Max_heaps.png\" />\n",
    "\n",
    "\n",
    "### Min Heap:\n",
    "- In Min heap: for every Node-i, the value of a **Parent Node < all of its Child Nodes**\n",
    "- The **root node** is the **smallest node**\n",
    "- In the fig above in \"min heap\", we see that:\n",
    "    - root node is the smallest value (10) - It is smaller than all its childrens and grand childrens\n",
    "    - Parent 15 is smaller than its children nodes (40, 50)\n",
    "\n",
    "\n",
    "### Max Heap:\n",
    "- In Max heap, the value of a **Parent Node >= all of its Child Nodes**\n",
    "- The **root node** is the **Largest node**\n",
    "- In the fig above in \"max heap\", we see that:\n",
    "    - root node is the largest value (100) - It is larger than all its childrens and grand childrens\n",
    "    - Parent 40 is larger than its children nodes (10, 15)\n",
    "\n",
    "\n",
    "\n",
    "\n",
    "**Image Source:** https://www.geeksforgeeks.org/heap-data-structure/\n",
    "\n"
   ]
  },
  {
   "cell_type": "markdown",
   "metadata": {},
   "source": [
    "## Properties\n",
    "\n",
    "- Heaps are managed using **ARRAYs or Lists(in python)**\n",
    "- Insertion: A **new node** is always Inserted in the end of the Array (as new element)\n",
    "- Deletion : To **Delete** any node, we start by first deleting the root node\n",
    "\n",
    "\n",
    "### Calculating Index of Parent and Child\n",
    "\n",
    "- Considering index starting at 0\n",
    "- **Parent = int(i/2)**  (in python).  or floor(i/2) in c/c++\n",
    "- **Left Child  = 2i + 1**\n",
    "- **Right Child  = 2i + 2**"
   ]
  },
  {
   "cell_type": "markdown",
   "metadata": {},
   "source": [
    "# Building Heaps\n",
    "\n",
    "- We can build heap using Normal method i.e insert each element(from left to right) and check for Heap properties</br>\n",
    "  :This method will take O(nlogn) time complexity\n",
    " \n",
    "\n",
    "- Alternate method to build heap is \"**HEAPIFY**\" method.</br>\n",
    "  : In this method, we start from the largest index of Non-Leaf element and go from Right to Left</br>\n",
    "  : For eg, given an Array [15, 5, 20, 1, 17, 10, 30] from which we need to build a heap.</br>\n",
    "                            15 - index=1\n",
    "                          /    \\\n",
    "               index=2-  5      20 - index=3\n",
    "                       /   \\   /   \\\n",
    "                      1    17  10  30\n",
    "                      \n",
    "  : Here, we see that 1, 17, 10 and 30 are Non-Leaf Nodes</br>\n",
    "    and the **largest index of Non-Leaf node** is the index of node-20 which **is index-3**</br> \n",
    "  \n",
    "  \n",
    "  "
   ]
  },
  {
   "cell_type": "code",
   "execution_count": null,
   "metadata": {},
   "outputs": [],
   "source": []
  }
 ],
 "metadata": {
  "kernelspec": {
   "display_name": "Python 3",
   "language": "python",
   "name": "python3"
  },
  "language_info": {
   "codemirror_mode": {
    "name": "ipython",
    "version": 3
   },
   "file_extension": ".py",
   "mimetype": "text/x-python",
   "name": "python",
   "nbconvert_exporter": "python",
   "pygments_lexer": "ipython3",
   "version": "3.7.6"
  }
 },
 "nbformat": 4,
 "nbformat_minor": 4
}
