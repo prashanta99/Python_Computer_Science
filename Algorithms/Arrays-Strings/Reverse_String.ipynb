{
 "cells": [
  {
   "cell_type": "markdown",
   "metadata": {},
   "source": [
    "# Reverse string"
   ]
  },
  {
   "cell_type": "markdown",
   "metadata": {},
   "source": [
    "Given a String - Reverse it\n",
    "```\n",
    "Eg:\n",
    "Input : \"Hello\"\n",
    "Output: \"olleH\"\n",
    "\n",
    "Input: \"Sonycity\"\n",
    "output: yticynoS\"\n",
    "```"
   ]
  },
  {
   "cell_type": "markdown",
   "metadata": {},
   "source": [
    "## Solution-1: Using Stack"
   ]
  },
  {
   "cell_type": "code",
   "execution_count": 6,
   "metadata": {},
   "outputs": [],
   "source": [
    "def reverseString(string):\n",
    "    stack = []\n",
    "    result_str = \"\"\n",
    "    for i in range(len(string)):\n",
    "        stack.append(string[i])\n",
    "        \n",
    "    for i in range(len(stack)):\n",
    "        result_str += stack.pop()\n",
    "        \n",
    "    return result_str\n",
    "    "
   ]
  },
  {
   "cell_type": "code",
   "execution_count": 12,
   "metadata": {},
   "outputs": [
    {
     "name": "stdout",
     "output_type": "stream",
     "text": [
      "olleH\n"
     ]
    }
   ],
   "source": [
    "string = \"Hello\"     # Expected o/p = \"olleH\"\n",
    "print(reverseString(string))"
   ]
  },
  {
   "cell_type": "markdown",
   "metadata": {},
   "source": [
    "## Solution-2: Using Recursion"
   ]
  },
  {
   "cell_type": "code",
   "execution_count": 32,
   "metadata": {},
   "outputs": [],
   "source": [
    "def reverseString(string_list, left, right):\n",
    "    if left >= right:\n",
    "        return \n",
    "    else:\n",
    "        string_list[left], string_list[right] = string_list[right], string_list[left]\n",
    "        return reverseString(string_list, left+1, right-1)\n",
    "    "
   ]
  },
  {
   "cell_type": "code",
   "execution_count": 36,
   "metadata": {},
   "outputs": [
    {
     "name": "stdout",
     "output_type": "stream",
     "text": [
      "Reversed string of Hello is: olleH \n"
     ]
    }
   ],
   "source": [
    "string = \"Hello\"     # Expected o/p = \"olleH\"\n",
    "string_list = list(string)\n",
    "reverseString(string_list, 0, len(string) - 1)\n",
    "newstring = \"\"\n",
    "for s in string_list:\n",
    "    newstring += s\n",
    "print(f\"Reversed string of {string} is: {newstring} \")"
   ]
  },
  {
   "cell_type": "code",
   "execution_count": 38,
   "metadata": {},
   "outputs": [
    {
     "name": "stdout",
     "output_type": "stream",
     "text": [
      "Reversed string of Sonycity is: yticynoS \n"
     ]
    }
   ],
   "source": [
    "string = \"Sonycity\"     # Expected o/p = \"yticynoS\"\n",
    "string_list = list(string)\n",
    "reverseString(string_list, 0, len(string) - 1)\n",
    "newstring = \"\"\n",
    "for s in string_list:\n",
    "    newstring += s\n",
    "print(f\"Reversed string of {string} is: {newstring} \")"
   ]
  },
  {
   "cell_type": "code",
   "execution_count": null,
   "metadata": {},
   "outputs": [],
   "source": []
  }
 ],
 "metadata": {
  "kernelspec": {
   "display_name": "Python 3",
   "language": "python",
   "name": "python3"
  },
  "language_info": {
   "codemirror_mode": {
    "name": "ipython",
    "version": 3
   },
   "file_extension": ".py",
   "mimetype": "text/x-python",
   "name": "python",
   "nbconvert_exporter": "python",
   "pygments_lexer": "ipython3",
   "version": "3.7.6"
  }
 },
 "nbformat": 4,
 "nbformat_minor": 4
}
