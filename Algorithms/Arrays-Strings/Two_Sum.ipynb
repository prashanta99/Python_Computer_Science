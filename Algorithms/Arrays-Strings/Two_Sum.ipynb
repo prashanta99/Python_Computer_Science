{
 "cells": [
  {
   "cell_type": "markdown",
   "metadata": {},
   "source": [
    "# TWO SUM\n",
    "\n",
    "- Given a array of integers, find if there are any two numbers whose sum add up to given target integer\n",
    "\n",
    "- Can this be done in one pass"
   ]
  },
  {
   "cell_type": "code",
   "execution_count": 3,
   "metadata": {},
   "outputs": [],
   "source": [
    "# Option 1: brute Force\n",
    "\n",
    "def two_sum(arr, target):\n",
    "    tsum = 0\n",
    "    N = len(arr)\n",
    "    for i in range(N - 1):\n",
    "        for j in range(i + 1, N):\n",
    "            if arr[i] + arr[j] == target:\n",
    "                return True\n",
    "    return False\n"
   ]
  },
  {
   "cell_type": "code",
   "execution_count": 10,
   "metadata": {},
   "outputs": [
    {
     "name": "stdout",
     "output_type": "stream",
     "text": [
      "There are two integers whose sum = 17 : True\n",
      "There are two integers whose sum = 17 : False\n"
     ]
    }
   ],
   "source": [
    "arr = [10, 15, 3, 7]\n",
    "target = 17\n",
    "print(f\"There are two integers whose sum = {target} : {two_sum(arr, target)}\")\n",
    "\n",
    "\n",
    "arr = [10, 15, 3, 9]\n",
    "target = 17\n",
    "print(f\"There are two integers whose sum = {target} : {two_sum(arr, target)}\")"
   ]
  },
  {
   "cell_type": "code",
   "execution_count": 11,
   "metadata": {},
   "outputs": [],
   "source": [
    "# Option-2 : In one Pass:\n",
    "def two_sum_onePass(arr, target):\n",
    "    sumDict = {}\n",
    "    N = len(arr)\n",
    "    \n",
    "    for i in range(N):\n",
    "        if arr[i] not in sumDict:\n",
    "            sumDict[target - arr[i]] = i\n",
    "        else:\n",
    "            return True\n",
    "    return False"
   ]
  },
  {
   "cell_type": "code",
   "execution_count": 12,
   "metadata": {},
   "outputs": [
    {
     "name": "stdout",
     "output_type": "stream",
     "text": [
      "There are two integers whose sum = 17 : True\n",
      "There are two integers whose sum = 17 : False\n"
     ]
    }
   ],
   "source": [
    "arr = [10, 15, 3, 7]\n",
    "target = 17\n",
    "print(f\"There are two integers whose sum = {target} : {two_sum_onePass(arr, target)}\")\n",
    "\n",
    "arr = [10, 15, 3, 9]\n",
    "target = 17\n",
    "print(f\"There are two integers whose sum = {target} : {two_sum_onePass(arr, target)}\")"
   ]
  },
  {
   "cell_type": "code",
   "execution_count": null,
   "metadata": {},
   "outputs": [],
   "source": []
  }
 ],
 "metadata": {
  "kernelspec": {
   "display_name": "Python 3",
   "language": "python",
   "name": "python3"
  },
  "language_info": {
   "codemirror_mode": {
    "name": "ipython",
    "version": 3
   },
   "file_extension": ".py",
   "mimetype": "text/x-python",
   "name": "python",
   "nbconvert_exporter": "python",
   "pygments_lexer": "ipython3",
   "version": "3.7.6"
  }
 },
 "nbformat": 4,
 "nbformat_minor": 4
}
