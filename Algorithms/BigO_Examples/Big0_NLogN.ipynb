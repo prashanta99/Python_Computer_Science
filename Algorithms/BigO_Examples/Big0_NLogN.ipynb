{
 "cells": [
  {
   "cell_type": "markdown",
   "metadata": {},
   "source": [
    "# Big-O: NLogN examples"
   ]
  },
  {
   "cell_type": "code",
   "execution_count": 19,
   "metadata": {},
   "outputs": [],
   "source": [
    "import numpy as np\n",
    "def nLogn(n):\n",
    "    a = n\n",
    "    while_loop = 0\n",
    "    while n > 1:\n",
    "        while_loop += 1\n",
    "        n = int(n/2)\n",
    "        inner_iteration_count = 0\n",
    "        for i in range(a):\n",
    "            inner_iteration_count += 1\n",
    "            \n",
    "        print(f\"Loop = {while_loop} For n ={n} inner_iteration_count = {inner_iteration_count}\")\n",
    "        \n",
    "        \n",
    "    print(f\"Final Loop = {while_loop} For n ={n} inner_iteration_count = {inner_iteration_count}\")\n",
    "    print(f\"BIGO -> Log(n) = log({a}) = {round(np.log(a))} Outer Loop = {while_loop} For each outer loop , inner loop is executed {inner_iteration_count} times\")\n",
    "    print(f\"BigO = Big(nlogn) = innerLoops * outerLoops = {inner_iteration_count} * {round(np.log(a))}\")\n",
    "    \n",
    "        \n",
    "            "
   ]
  },
  {
   "cell_type": "code",
   "execution_count": 20,
   "metadata": {},
   "outputs": [
    {
     "name": "stdout",
     "output_type": "stream",
     "text": [
      "Loop = 1 For n =5 inner_iteration_count = 10\n",
      "Loop = 2 For n =2 inner_iteration_count = 10\n",
      "Loop = 3 For n =1 inner_iteration_count = 10\n",
      "Final Loop = 3 For n =1 inner_iteration_count = 10\n",
      "BIGO -> Log(n) = log(10) = 2 Outer Loop = 3 For each outer loop , inner loop is executed 10 times\n",
      "BigO = Big(nlogn) = innerLoops * outerLoops = 10 * 2\n"
     ]
    }
   ],
   "source": [
    "nLogn(10)"
   ]
  },
  {
   "cell_type": "code",
   "execution_count": 21,
   "metadata": {},
   "outputs": [
    {
     "name": "stdout",
     "output_type": "stream",
     "text": [
      "Loop = 1 For n =250 inner_iteration_count = 500\n",
      "Loop = 2 For n =125 inner_iteration_count = 500\n",
      "Loop = 3 For n =62 inner_iteration_count = 500\n",
      "Loop = 4 For n =31 inner_iteration_count = 500\n",
      "Loop = 5 For n =15 inner_iteration_count = 500\n",
      "Loop = 6 For n =7 inner_iteration_count = 500\n",
      "Loop = 7 For n =3 inner_iteration_count = 500\n",
      "Loop = 8 For n =1 inner_iteration_count = 500\n",
      "Final Loop = 8 For n =1 inner_iteration_count = 500\n",
      "BIGO -> Log(n) = log(500) = 6 Outer Loop = 8 For each outer loop , inner loop is executed 500 times\n",
      "BigO = Big(nlogn) = innerLoops * outerLoops = 500 * 6\n"
     ]
    }
   ],
   "source": [
    "nLogn(500)"
   ]
  },
  {
   "cell_type": "code",
   "execution_count": null,
   "metadata": {},
   "outputs": [],
   "source": []
  }
 ],
 "metadata": {
  "kernelspec": {
   "display_name": "Python 3",
   "language": "python",
   "name": "python3"
  },
  "language_info": {
   "codemirror_mode": {
    "name": "ipython",
    "version": 3
   },
   "file_extension": ".py",
   "mimetype": "text/x-python",
   "name": "python",
   "nbconvert_exporter": "python",
   "pygments_lexer": "ipython3",
   "version": "3.7.6"
  }
 },
 "nbformat": 4,
 "nbformat_minor": 4
}
