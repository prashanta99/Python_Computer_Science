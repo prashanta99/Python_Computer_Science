{
 "cells": [
  {
   "cell_type": "markdown",
   "metadata": {},
   "source": [
    "# Counting Sort"
   ]
  },
  {
   "cell_type": "markdown",
   "metadata": {},
   "source": [
    "### Constraints:\n",
    "- There are No Negative and Floting Point Values\n",
    "- The range of values should be 0 <= a[i] <= K\n",
    "- Upper bound of K: K <= O(N) (N, 2N, 3N...) but not N^2\n"
   ]
  },
  {
   "cell_type": "markdown",
   "metadata": {},
   "source": []
  },
  {
   "cell_type": "code",
   "execution_count": 40,
   "metadata": {},
   "outputs": [],
   "source": [
    "def CountSort(arr):\n",
    "    N = len(arr)\n",
    "    K = get_K(arr)  # If K is not given\n",
    "    \n",
    "    K_arr = [0 for i in range(K + 1)]\n",
    "    \n",
    "    for num in arr:\n",
    "        K_arr[num] += 1\n",
    "        \n",
    "    for j in range(1, len(K_arr)):\n",
    "        K_arr[j] += K_arr[j-1] \n",
    "        \n",
    "    result_arr = [None for i in range(N)]\n",
    "    \n",
    "    for j in range(N -1 , -1, -1):\n",
    "        K_arr[arr[j]] -= 1\n",
    "        index = K_arr[arr[j]]\n",
    "        result_arr[index] = arr[j]\n",
    "        \n",
    "    return result_arr\n",
    "                     \n",
    "\n",
    "def get_K(arr):\n",
    "    \n",
    "    N = len(arr)\n",
    "    maximum = arr[0]\n",
    "    \n",
    "    for i in range(1, N-1):\n",
    "        maximum = max(maximum, arr[i])\n",
    "    \n",
    "    return maximum"
   ]
  },
  {
   "cell_type": "code",
   "execution_count": 41,
   "metadata": {},
   "outputs": [],
   "source": [
    "# Test\n",
    "arr = [1, 0, 2, 1, 0, 1, 1, 5, 6, 7, 5, 4, 2, 2, 0, 0, 1]"
   ]
  },
  {
   "cell_type": "code",
   "execution_count": 42,
   "metadata": {},
   "outputs": [
    {
     "name": "stdout",
     "output_type": "stream",
     "text": [
      "1111 K_arr: [4, 5, 3, 0, 1, 2, 1, 1]\n",
      "2222 K_arr: [4, 9, 12, 12, 13, 15, 16, 17]\n",
      "[0, 0, 0, 0, 1, 1, 1, 1, 1, 2, 2, 2, 4, 5, 5, 6, 7]\n"
     ]
    }
   ],
   "source": [
    "print(CountSort(arr))"
   ]
  },
  {
   "cell_type": "code",
   "execution_count": null,
   "metadata": {},
   "outputs": [],
   "source": []
  },
  {
   "cell_type": "code",
   "execution_count": null,
   "metadata": {},
   "outputs": [],
   "source": []
  }
 ],
 "metadata": {
  "kernelspec": {
   "display_name": "Python 3",
   "language": "python",
   "name": "python3"
  },
  "language_info": {
   "codemirror_mode": {
    "name": "ipython",
    "version": 3
   },
   "file_extension": ".py",
   "mimetype": "text/x-python",
   "name": "python",
   "nbconvert_exporter": "python",
   "pygments_lexer": "ipython3",
   "version": "3.7.6"
  }
 },
 "nbformat": 4,
 "nbformat_minor": 4
}
