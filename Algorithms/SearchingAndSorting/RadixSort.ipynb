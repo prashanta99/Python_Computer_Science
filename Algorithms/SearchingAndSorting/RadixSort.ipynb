{
 "cells": [
  {
   "cell_type": "markdown",
   "metadata": {},
   "source": [
    "# Radix Sort"
   ]
  },
  {
   "cell_type": "markdown",
   "metadata": {},
   "source": [
    "## About:\n",
    "- It sorts the array by using the counting sort strategy upon individual digits of the numbers"
   ]
  },
  {
   "cell_type": "markdown",
   "metadata": {},
   "source": [
    "### High Level \n",
    "\n",
    "- Find count of each digit of the numbers starting with the units place\n",
    "- Store these counts in a seperate array\n",
    "- Start from last element of the array - Find the approriate place for that digit and place the number in that Index\n"
   ]
  },
  {
   "cell_type": "code",
   "execution_count": null,
   "metadata": {},
   "outputs": [],
   "source": [
    "1. Identify the largest number in the array\n",
    "2. Let n = number of digits in the largest number found from step-1\n",
    "3. Pad 0 to left of the numbers whose number of digits are less than n\n",
    "4. Create a new array with K elements where k = 10 (representing 0-9 distinct digits)\n",
    "   This array will store the counts of those digits\n",
    "\n",
    "4. Iterate over all elements of the array\n",
    "5. Read in the last digit in the array\n",
    "6. Increment count for that digit in the K's array -"
   ]
  },
  {
   "cell_type": "code",
   "execution_count": 21,
   "metadata": {},
   "outputs": [],
   "source": [
    "def RadixSort(arr):\n",
    "    N = len(arr)\n",
    "    maxdigit = get_maxdigits(arr)\n",
    "    K = 10\n",
    "    K_arr = [0 for i in range(10)]\n",
    "    \n",
    "    pos_arr = [10**i for i in range(maxdigit)]  # 1, 10, 100, 1000 ....\n",
    "    result_arr = counting_arr(arr, K_arr, pos_arr)\n",
    "    \n",
    "    return result_arr\n",
    "    \n",
    "def get_maxdigits(arr):\n",
    "    maximum = arr[0]\n",
    "    for i in range(1, len(arr)):\n",
    "        maximum = max(maximum, arr[i])\n",
    "    return len(str(maximum))\n",
    "   \n",
    "def counting_arr(arr, K_arr, pos_arr):\n",
    "\n",
    "    for place_value in pos_arr:\n",
    "        K_arr = [0 for i in range(10)]\n",
    "        result_arr = [None for i in range(len(arr))]\n",
    "\n",
    "        for i in range(len(arr)):\n",
    "            arr_value = (int(arr[i]/place_value)) % 10\n",
    "            K_arr[arr_value] += 1\n",
    "        \n",
    "        for j in range(1, len(K_arr)):\n",
    "            K_arr[j] += K_arr[j-1]\n",
    "\n",
    "        for i in range((len(arr) -1), -1, -1):\n",
    "            arr_value = (int(arr[i]/place_value)) % 10\n",
    "            K_arr[arr_value] -= 1 \n",
    "            index = K_arr[arr_value]\n",
    "            result_arr[index] = arr[i]\n",
    "        \n",
    "        arr = result_arr.copy()\n",
    "    \n",
    "    return arr\n",
    "  "
   ]
  },
  {
   "cell_type": "code",
   "execution_count": 24,
   "metadata": {},
   "outputs": [
    {
     "name": "stdout",
     "output_type": "stream",
     "text": [
      "Sorted Array : [1, 8, 23, 45, 88, 90, 199, 432, 530, 677]\n"
     ]
    }
   ],
   "source": [
    "arr = [432, 8, 530, 90, 88, 23, 1, 45, 677, 199]\n",
    "print(\"Sorted Array :\",RadixSort(arr))"
   ]
  },
  {
   "cell_type": "code",
   "execution_count": null,
   "metadata": {},
   "outputs": [],
   "source": []
  }
 ],
 "metadata": {
  "kernelspec": {
   "display_name": "Python 3",
   "language": "python",
   "name": "python3"
  },
  "language_info": {
   "codemirror_mode": {
    "name": "ipython",
    "version": 3
   },
   "file_extension": ".py",
   "mimetype": "text/x-python",
   "name": "python",
   "nbconvert_exporter": "python",
   "pygments_lexer": "ipython3",
   "version": "3.7.6"
  }
 },
 "nbformat": 4,
 "nbformat_minor": 4
}
