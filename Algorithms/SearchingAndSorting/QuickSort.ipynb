{
 "cells": [
  {
   "cell_type": "markdown",
   "metadata": {},
   "source": [
    "# QuickSort\n",
    "\n",
    "- Based on Divide and Conquer Technique\n",
    "\n",
    "- The array is divided into **Partitions Recursively** \n",
    "\n",
    "- The technique to create the partitions is the **backbone** of this Algorithm"
   ]
  },
  {
   "cell_type": "markdown",
   "metadata": {},
   "source": [
    "### QuickSort - What it is\n",
    "\n",
    "In Short:\n",
    "- 1. Define a Pivot element ( can be first element, last element or any random element from the array)\n",
    "- 2. Find the correct position of the Pivot element in the array\n",
    "- 3. This correct position of Pivot will partition the array in \n",
    "     Left partition  (values less than Pivot) and \n",
    "     Right partition (values greater than Pivot) (w.r.t pivot)\n",
    "- 4. Now take the Left Partition - Repeat steps 1-3\n",
    "- 5. Take the Right Partition - Repeat steps 1-3\n",
    "- 6. Repeat 4 and 5 until there is only one element left in the partition\n",
    "\n",
    "<span style='color:red'>**Note:**</span> Steps 4 and 5 can be handled **recursively**\n",
    "\n",
    "### Highlevel Steps\n",
    "\n",
    "1. To create this partition, we choose a random element as **Pivot element** <br>\n",
    "   Ex, <span style='color:gray'>**| 10 | 15 | 1 | 2 | 9 | 16 | 11 |**</span> -- Choose **10** as Pivot Element<br>\n",
    "   \n",
    "\n",
    "2. Move elements **Less than the Pivot Element** to **Left of the Pivot Element**. This makes up  <span style='color:blue'>**Left Partition**</span> & <br>\n",
    "   <span style='color:gray'>**| 1 | 2 | 9 |**</span><br>\n",
    "   \n",
    "\n",
    "3. Move elements **Greater than the Pivot Element** to **Right of the Pivot Element**. This makes up  <span style='color:blue'>**Right Partition**</span> <br>\n",
    "   <span style='color:gray'>**| 15 | 16 | 11 |**</span><br>\n",
    "   \n",
    "\n",
    "4. Equal Elements can go in either of the partitions <br> \n",
    "\n",
    "   After one complete iteration we get:\n",
    "<span style='color:maroon'>**|Left Partition | Pivot | Right Partition|**</span> <br>\n",
    "<span style='color:gray'>**| 1 | 2 | 9 | <span style='color:blue'><u>10</u></span> | 15 | 16 | 11 |**</span> <br>\n",
    "We see that, in this process,  the Pivot element **10** gets into its **correct sorted position**\n",
    "\n",
    "\n",
    "5. Repeat steps-1 to 4 each for the Left and Right subpartitions, Continue until there is only one element left \n",
    "\n"
   ]
  },
  {
   "cell_type": "markdown",
   "metadata": {},
   "source": [
    "### Steps to Create the Partitions\n",
    "Performed for each subpartitions - At beginning whole array is one Partition\n",
    "\n",
    "1. Select the Pivot Element - Say 10\n",
    "\n",
    "                                  \n",
    "2. Create a **Start Marker** that will start from left end and move right\n",
    "\n",
    "                                  \n",
    "3. Create a **End Marker** that will start from right end and move left\n",
    "\n",
    "                                  \n",
    "4. Move the **Start Marker** to right and compare that element with the Pivot element\n",
    "   -- Say 15 compare with 10<br>\n",
    "   Keep moving the **Start Marker** as long as the <span style='color:maroon'>element is **<=** Pivot Element</span> <br>\n",
    "\n",
    "\n",
    "5. Move the **End Marker** to left and compare that element with the Pivot element\n",
    "   -- Say 11 compare with 10<br>\n",
    "   Keep moving the **End Marker** to left as long as the <span style='color:maroon'>element is **>** Pivot Element</span> <br>\n",
    "    \n",
    "6. When both the conditions of step-4 and step-5 are met --> **Swap** the elements at the start and end positions\n",
    "\n",
    "    \n",
    "7. After swapping continue with steps 4 and 5 from where the start and end stopped\n",
    "    \n",
    "    \n",
    "8. When start marker and end marker crosses each other - **Swap** the Pivot element with the element at the End Marker\n",
    "    \n",
    "9. The **End Marker** thus bring the Pivot element to its correct position and this divides the array into two partitions<br>\n",
    "    At this time - we get <br>\n",
    "    a. The Pivot element placed at its correct position<br>\n",
    "    b. creation of left partition<br>\n",
    "    c. creation of right partition<br>\n",
    "    <b>[Left Partition] [Pivot] [Right Partition]</b>\n",
    "    \n",
    "    \n",
    "10. We then take the left partition - Repeat steps - 1 to 9\n",
    "    \n",
    "    \n",
    "11. Next we take the right partition - Repeat steps - 1 to 9\n",
    "    \n",
    "\n",
    "\n",
    "    \n",
    "10. Steps 10 and 11 are **Recursive**"
   ]
  },
  {
   "cell_type": "code",
   "execution_count": 110,
   "metadata": {},
   "outputs": [],
   "source": [
    "def create_partition(numlist, start, end):\n",
    "    \"\"\"\n",
    "    This \n",
    "    input: numlist -  numlistition to work on\n",
    "           start - Left marker\n",
    "           end - Right Marker\n",
    "    \"\"\"\n",
    "    \n",
    "    pivot = numlist[start]\n",
    "    pivot_ind = start\n",
    "    N = end\n",
    "    \n",
    "    while(start < end):\n",
    "        while(numlist[start] <= pivot):\n",
    "            if start == N :\n",
    "                break\n",
    "            start += 1\n",
    "   \n",
    "        while(numlist[end] > pivot):\n",
    "            if end == 0:\n",
    "                break\n",
    "            end -= 1\n",
    "        \n",
    "        if start < end:\n",
    "            numlist[start], numlist[end] = numlist[end], numlist[start]\n",
    "        \n",
    "    numlist[end], numlist[pivot_ind] = numlist[pivot_ind], numlist[end]\n",
    "    return end\n",
    "    \n",
    "        "
   ]
  },
  {
   "cell_type": "code",
   "execution_count": 111,
   "metadata": {},
   "outputs": [],
   "source": [
    "# Note: Though we are using Recursion, No explicit Base case is Needed as we are Sorting InPlace\n",
    "#  and there is implicit basecase in the condition if start< end\n",
    "#  Implicit base case for exit is when start = end (when there is only one element left)\n",
    "    \n",
    "def quicksort(numlist, start, end):\n",
    "    \n",
    "    if start < end:\n",
    "        loc = create_partition(numlist, start, end)  # partition location\n",
    "        quicksort(numlist, start, loc - 1)  # Left Partition\n",
    "        quicksort(numlist, loc+1, end)  # Right Partition\n"
   ]
  },
  {
   "cell_type": "code",
   "execution_count": 112,
   "metadata": {},
   "outputs": [
    {
     "name": "stdout",
     "output_type": "stream",
     "text": [
      "\n",
      "Original : [10, 15, 1, 2, 9, 16, 11]\n",
      "Sorted.  : [1, 2, 9, 10, 11, 15, 16]\n",
      "\n",
      "Original : [7, 6, 10, 5, 9, 2, 1, 15, 7]\n",
      "Sorted.  : [1, 2, 5, 6, 7, 7, 9, 10, 15]\n"
     ]
    }
   ],
   "source": [
    "print()\n",
    "numlist = [10, 15, 1, 2, 9, 16, 11]\n",
    "print(\"Original :\",numlist)\n",
    "quicksort(numlist, 0, len(numlist) - 1)\n",
    "print(\"Sorted.  :\",numlist)\n",
    "\n",
    "\n",
    "print()\n",
    "numlist = [7 , 6, 10, 5, 9, 2, 1, 15, 7]\n",
    "print(\"Original :\",numlist)\n",
    "quicksort(numlist, 0, len(numlist) - 1)\n",
    "print(\"Sorted.  :\",numlist)              "
   ]
  },
  {
   "cell_type": "markdown",
   "metadata": {},
   "source": [
    "# Option2: Using For Loop instead of While loops"
   ]
  },
  {
   "cell_type": "code",
   "execution_count": 35,
   "metadata": {},
   "outputs": [],
   "source": [
    "def quicksort2(arr, start, end):\n",
    "    if start <= end:\n",
    "        loc = create_partitions2(arr, start, end)\n",
    "        quicksort(arr, start, loc - 1)\n",
    "        quicksort(arr, loc + 1, end)\n"
   ]
  },
  {
   "cell_type": "code",
   "execution_count": 36,
   "metadata": {},
   "outputs": [],
   "source": [
    "def create_partitions2(arr, start, end):\n",
    "    pivot = arr[start]\n",
    "    N = len(arr)\n",
    "    \n",
    "    i = start - 1\n",
    "    for j in range(start, end + 1):\n",
    "        if arr[j] <= pivot:\n",
    "            i += 1\n",
    "            arr[i], arr[j] = arr[j], arr[i]\n",
    "    arr[i], arr[start] = arr[start], arr[i]\n",
    "    \n",
    "    return i"
   ]
  },
  {
   "cell_type": "code",
   "execution_count": 37,
   "metadata": {},
   "outputs": [
    {
     "name": "stdout",
     "output_type": "stream",
     "text": [
      "\n",
      "Original : [7, 6, 10, 5, 9, 2, 1, 15, 7]\n",
      "Sorted.  : [1, 2, 5, 6, 7, 7, 9, 10, 15]\n"
     ]
    }
   ],
   "source": [
    "print()\n",
    "numlist = [7 , 6, 10, 5, 9, 2, 1, 15, 7]\n",
    "print(\"Original :\",numlist)\n",
    "quicksort2(numlist, 0, len(numlist) - 1)\n",
    "print(\"Sorted.  :\",numlist)              "
   ]
  },
  {
   "cell_type": "code",
   "execution_count": null,
   "metadata": {},
   "outputs": [],
   "source": []
  }
 ],
 "metadata": {
  "kernelspec": {
   "display_name": "Python 3",
   "language": "python",
   "name": "python3"
  },
  "language_info": {
   "codemirror_mode": {
    "name": "ipython",
    "version": 3
   },
   "file_extension": ".py",
   "mimetype": "text/x-python",
   "name": "python",
   "nbconvert_exporter": "python",
   "pygments_lexer": "ipython3",
   "version": "3.7.6"
  }
 },
 "nbformat": 4,
 "nbformat_minor": 4
}
