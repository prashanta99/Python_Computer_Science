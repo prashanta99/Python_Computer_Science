{
 "cells": [
  {
   "cell_type": "markdown",
   "metadata": {},
   "source": [
    "# Linear search"
   ]
  },
  {
   "cell_type": "markdown",
   "metadata": {},
   "source": [
    "## About:\n",
    "\n",
    "**TODO:** \n",
    "- Search if a Key value is present in the Array. \n",
    "- If Key is found return its index else return a message \"Key not Found \"\n",
    "\n",
    "**Search Technique**\n",
    "- In Linear Search we iterate through each element of the Array\n",
    "- At each element of the array, we compare it against the Key element to search\n",
    "- If Match found, we return that Index and exit the iteration\n",
    "- If Match not found, after completing the iteration - Return \"Key not Found\" message\n",
    "\n"
   ]
  },
  {
   "cell_type": "markdown",
   "metadata": {},
   "source": [
    "**Runtime Analysis**\n",
    "- Best Case: <span style=\"color:blue\">**O(1)**</span>, Case when the **key IS AVAILABLE** in the array and it is First element of the array\n",
    "- Worst Case: <span style=\"color:blue\">**O(N)**</span>, Case when they **Key is NOT AVALIABLE** in the array. In this case we have to iterate all the N elements of the array\n"
   ]
  },
  {
   "cell_type": "code",
   "execution_count": 9,
   "metadata": {},
   "outputs": [],
   "source": [
    "def linear_search(arr, key):\n",
    "    \n",
    "\n",
    "    for index, num in enumerate(arr):\n",
    "        if num == key:\n",
    "            print(f\"Element {num} Found at index {index}\")\n",
    "            return index\n",
    "    print(\"Key {key} Not Found\")\n",
    "    return None"
   ]
  },
  {
   "cell_type": "code",
   "execution_count": 10,
   "metadata": {},
   "outputs": [
    {
     "name": "stdout",
     "output_type": "stream",
     "text": [
      "Key {key} Not Found\n",
      "None\n"
     ]
    }
   ],
   "source": [
    "arr = [15, 5, 20, 35, 2, 42, 67, 17]\n",
    "print(linear_search(arr, 41))"
   ]
  },
  {
   "cell_type": "code",
   "execution_count": null,
   "metadata": {},
   "outputs": [],
   "source": []
  }
 ],
 "metadata": {
  "kernelspec": {
   "display_name": "Python 3",
   "language": "python",
   "name": "python3"
  },
  "language_info": {
   "codemirror_mode": {
    "name": "ipython",
    "version": 3
   },
   "file_extension": ".py",
   "mimetype": "text/x-python",
   "name": "python",
   "nbconvert_exporter": "python",
   "pygments_lexer": "ipython3",
   "version": "3.7.6"
  }
 },
 "nbformat": 4,
 "nbformat_minor": 4
}
