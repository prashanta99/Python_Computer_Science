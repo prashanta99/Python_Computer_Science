{
 "cells": [
  {
   "cell_type": "markdown",
   "metadata": {},
   "source": [
    "# Binary Search"
   ]
  },
  {
   "cell_type": "markdown",
   "metadata": {},
   "source": [
    "## About:\n",
    "\n",
    "To Apply Binary Search on an Array - **The Array Needs to be in Sorted order**\n",
    "Binary Search then helps to search for a Key in the array quickly\n",
    "\n"
   ]
  },
  {
   "cell_type": "markdown",
   "metadata": {},
   "source": [
    "### Technique-1 - Recursion"
   ]
  },
  {
   "cell_type": "code",
   "execution_count": 14,
   "metadata": {},
   "outputs": [],
   "source": [
    "\n",
    "def BinarySearch(arr, key, start, end):\n",
    "    mid = int((start + end)/2)\n",
    "     \n",
    "    if key == arr[mid]:\n",
    "        return mid\n",
    "    elif key > arr[mid]:\n",
    "        return BinarySearch(arr, key,  mid+1, end)\n",
    "    elif key < arr[mid]:\n",
    "        return BinarySearch(arr, key, start, mid-1)\n",
    "    \n",
    "\n",
    "                "
   ]
  },
  {
   "cell_type": "code",
   "execution_count": 15,
   "metadata": {},
   "outputs": [
    {
     "name": "stdout",
     "output_type": "stream",
     "text": [
      "6\n"
     ]
    }
   ],
   "source": [
    "arr = [1, 2, 5, 6, 7, 7, 9, 10, 15]\n",
    "key = 9\n",
    "print(BinarySearch(arr, key, 0, len(arr)))"
   ]
  },
  {
   "cell_type": "markdown",
   "metadata": {},
   "source": [
    "### Technique-2 - Non-Recusion / Looping"
   ]
  },
  {
   "cell_type": "code",
   "execution_count": 21,
   "metadata": {},
   "outputs": [],
   "source": [
    "def BinarySearch(arr, key):\n",
    "    N = len(arr)\n",
    "    start = 0\n",
    "    end = len(arr) - 1\n",
    "    \n",
    "    while(start < end):\n",
    "        mid = int((start + end)/2)\n",
    "        if key == arr[mid]:\n",
    "            return mid\n",
    "        elif key > arr[mid]:\n",
    "            start = mid + 1\n",
    "        \n",
    "        elif key < arr[mid]:\n",
    "            end = mid - 1\n",
    "    return -1\n",
    "    "
   ]
  },
  {
   "cell_type": "code",
   "execution_count": 23,
   "metadata": {},
   "outputs": [
    {
     "name": "stdout",
     "output_type": "stream",
     "text": [
      "1\n"
     ]
    }
   ],
   "source": [
    "arr = [1, 2, 5, 6, 7, 7, 9, 10, 15]\n",
    "key = 2\n",
    "print(BinarySearch(arr, key))"
   ]
  },
  {
   "cell_type": "code",
   "execution_count": null,
   "metadata": {},
   "outputs": [],
   "source": []
  }
 ],
 "metadata": {
  "kernelspec": {
   "display_name": "Python 3",
   "language": "python",
   "name": "python3"
  },
  "language_info": {
   "codemirror_mode": {
    "name": "ipython",
    "version": 3
   },
   "file_extension": ".py",
   "mimetype": "text/x-python",
   "name": "python",
   "nbconvert_exporter": "python",
   "pygments_lexer": "ipython3",
   "version": "3.7.6"
  }
 },
 "nbformat": 4,
 "nbformat_minor": 4
}
