{
 "cells": [
  {
   "cell_type": "markdown",
   "metadata": {},
   "source": [
    "# Insertion Sort"
   ]
  },
  {
   "cell_type": "markdown",
   "metadata": {},
   "source": [
    "Time Complexity:\n",
    "\n",
    "Best Case --> O(N)\n",
    "Worst Case --> O(N<sup>2</sup>) --- When input array is sorted in Descending order\n",
    "\n",
    "- Fantastic reference for data structures and Algorithms <br>\n",
    "https://www.youtube.com/watch?v=yCxV0kBpA6M"
   ]
  },
  {
   "cell_type": "markdown",
   "metadata": {},
   "source": [
    "## Working\n",
    "\n",
    "In Insertion Sort - We start picking element from position 1 and put it in its right place in left.\n",
    "\n",
    "We divide the array in Sorted (Left part) and Unsorted(Right Part)\n",
    "\n",
    "- Initially all except the first (0th Element is assumed to be Sorted Element\n",
    "  Elements 1 - Last Index are considered Unsorted\n",
    "  \n",
    "- We will need two loops"
   ]
  },
  {
   "cell_type": "markdown",
   "metadata": {},
   "source": [
    "<img src=\"./images/insertion_sort.jpg\"/>"
   ]
  },
  {
   "cell_type": "code",
   "execution_count": 62,
   "metadata": {},
   "outputs": [],
   "source": [
    "def insertion_sort(numlist):\n",
    "    N = len(numlist)\n",
    "    \n",
    "    for i in range(1, N):\n",
    "        temp = numlist[i]\n",
    "        \n",
    "        empty_ind = i  # initialize\n",
    "        for j in range(i - 1, -1, -1):\n",
    "            print(f\"for i = {i} and j = {j}, temp = {temp} and numlist = {numlist} \")\n",
    "            if temp < numlist[j]:\n",
    "                numlist[empty_ind] = numlist[j]\n",
    "                empty_ind = j\n",
    "                print(f\"Swap needed {temp} < {numlist[j]}, After Swap numlist[{j}] = {numlist}\")\n",
    "                numlist[j] = None\n",
    "                print()\n",
    "            else:\n",
    "                break\n",
    "        numlist[empty_ind] = temp\n",
    "        if i == empty_ind:\n",
    "            print(f\"Inside/Left Search Ended, No Swap was done ....\")\n",
    "        else:\n",
    "            print(f\"Inside/Left Search Ended, Filling in Temp in position {empty_ind}  --> numlist = {numlist}\")\n",
    "        print()\n",
    "        print(\"--------------------------------------------------------------------\")\n",
    "    return numlist    "
   ]
  },
  {
   "cell_type": "code",
   "execution_count": 63,
   "metadata": {},
   "outputs": [
    {
     "name": "stdout",
     "output_type": "stream",
     "text": [
      "for i = 1 and j = 0, temp = 4 and numlist = [5, 4, 10, 1, 6, 2] \n",
      "Swap needed 4 < 5, After Swap numlist[0] = [5, 5, 10, 1, 6, 2]\n",
      "\n",
      "Inside/Left Search Ended, Filling in Temp in position 0  --> numlist = [4, 5, 10, 1, 6, 2]\n",
      "\n",
      "--------------------------------------------------------------------\n",
      "for i = 2 and j = 1, temp = 10 and numlist = [4, 5, 10, 1, 6, 2] \n",
      "Inside/Left Search Ended, No Swap was done ....\n",
      "\n",
      "--------------------------------------------------------------------\n",
      "for i = 3 and j = 2, temp = 1 and numlist = [4, 5, 10, 1, 6, 2] \n",
      "Swap needed 1 < 10, After Swap numlist[2] = [4, 5, 10, 10, 6, 2]\n",
      "\n",
      "for i = 3 and j = 1, temp = 1 and numlist = [4, 5, None, 10, 6, 2] \n",
      "Swap needed 1 < 5, After Swap numlist[1] = [4, 5, 5, 10, 6, 2]\n",
      "\n",
      "for i = 3 and j = 0, temp = 1 and numlist = [4, None, 5, 10, 6, 2] \n",
      "Swap needed 1 < 4, After Swap numlist[0] = [4, 4, 5, 10, 6, 2]\n",
      "\n",
      "Inside/Left Search Ended, Filling in Temp in position 0  --> numlist = [1, 4, 5, 10, 6, 2]\n",
      "\n",
      "--------------------------------------------------------------------\n",
      "for i = 4 and j = 3, temp = 6 and numlist = [1, 4, 5, 10, 6, 2] \n",
      "Swap needed 6 < 10, After Swap numlist[3] = [1, 4, 5, 10, 10, 2]\n",
      "\n",
      "for i = 4 and j = 2, temp = 6 and numlist = [1, 4, 5, None, 10, 2] \n",
      "Inside/Left Search Ended, Filling in Temp in position 3  --> numlist = [1, 4, 5, 6, 10, 2]\n",
      "\n",
      "--------------------------------------------------------------------\n",
      "for i = 5 and j = 4, temp = 2 and numlist = [1, 4, 5, 6, 10, 2] \n",
      "Swap needed 2 < 10, After Swap numlist[4] = [1, 4, 5, 6, 10, 10]\n",
      "\n",
      "for i = 5 and j = 3, temp = 2 and numlist = [1, 4, 5, 6, None, 10] \n",
      "Swap needed 2 < 6, After Swap numlist[3] = [1, 4, 5, 6, 6, 10]\n",
      "\n",
      "for i = 5 and j = 2, temp = 2 and numlist = [1, 4, 5, None, 6, 10] \n",
      "Swap needed 2 < 5, After Swap numlist[2] = [1, 4, 5, 5, 6, 10]\n",
      "\n",
      "for i = 5 and j = 1, temp = 2 and numlist = [1, 4, None, 5, 6, 10] \n",
      "Swap needed 2 < 4, After Swap numlist[1] = [1, 4, 4, 5, 6, 10]\n",
      "\n",
      "for i = 5 and j = 0, temp = 2 and numlist = [1, None, 4, 5, 6, 10] \n",
      "Inside/Left Search Ended, Filling in Temp in position 1  --> numlist = [1, 2, 4, 5, 6, 10]\n",
      "\n",
      "--------------------------------------------------------------------\n",
      "[1, 2, 4, 5, 6, 10]\n"
     ]
    }
   ],
   "source": [
    "numlist = [5, 4, 10, 1, 6, 2]\n",
    "\n",
    "result = insertion_sort(numlist.copy())\n",
    "print(result)"
   ]
  },
  {
   "cell_type": "code",
   "execution_count": null,
   "metadata": {},
   "outputs": [],
   "source": []
  }
 ],
 "metadata": {
  "kernelspec": {
   "display_name": "Python 3",
   "language": "python",
   "name": "python3"
  },
  "language_info": {
   "codemirror_mode": {
    "name": "ipython",
    "version": 3
   },
   "file_extension": ".py",
   "mimetype": "text/x-python",
   "name": "python",
   "nbconvert_exporter": "python",
   "pygments_lexer": "ipython3",
   "version": "3.7.6"
  }
 },
 "nbformat": 4,
 "nbformat_minor": 4
}
