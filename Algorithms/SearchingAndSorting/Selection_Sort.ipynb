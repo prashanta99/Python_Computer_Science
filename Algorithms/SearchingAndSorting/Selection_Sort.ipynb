{
 "cells": [
  {
   "cell_type": "markdown",
   "metadata": {},
   "source": [
    "# Selection Sort"
   ]
  },
  {
   "cell_type": "markdown",
   "metadata": {},
   "source": [
    "In Selection Sort, in every iteration - i (i=0..N-1), \n",
    "1. Find the minimum from N - i elements  (i starts from 0 increments to 1)\n",
    "2. Replace the minimum with **i<sup>th</sup> position** and move the element in **i<sup>th</sup>position** to the position of the minimum element\n",
    "3. After each **i<sup>th</sup> iteration, elements from **0<sup>th</sup> to **i<sup>th</sup> postion will be \n",
    "   in sorted order (Ascending in this case)\n",
    "\n",
    "4. Go to next **i<sup>th</sup> position and repeat the above steps\n",
    "\n",
    "### Example\n",
    "The ones in red-color are in Sorted state.\n",
    "\n",
    "Array - **| 5 | 4 | 10 | 1 | 6 | 2 |**\n",
    "\n",
    "**i = 0, first iteration**\n",
    "- Step-1: find min(pos-0 to pos-N-1) - **Min is 1 at position 3**\n",
    "         \n",
    "- Step-2: Swap Array(0) with Array(3) --> New Array --> **| <span style=\"color:red\">1</span> | 4 | 10 | 5 | 6 | 2 |**\n",
    "\n",
    "**i = 1, Second iteration**\n",
    "- Step-1: find min(pos-1 to pos-N-1) - **Min is 2 at position 5**\n",
    "         \n",
    "- Step-2: Swap Array(1) with Array(5) --> New Array --> **| <span style=\"color:red\">1 | 2</span> | 10 | 5 | 6 | 4 |**\n",
    "\n",
    "\n",
    "**i = 2, Third iteration**\n",
    "- Step-1: find min(pos-2 to pos-N-1) - **Min is 4 at position 5**\n",
    "         \n",
    "- Step-2: Swap Array(2) with Array(5) --> New Array --> **| <span style=\"color:red\">1 | 2 | 4 </span> | 5 | 6 | 10 |**\n",
    "\n",
    "\n",
    "**i = 3, fourth iteration**\n",
    "- Step-1: find min(pos-3 to pos-N-1) - **Min is 5 at position 3**\n",
    "         \n",
    "- Step-2: Swap Array(3) with Array(3) --> New Array --> **| <span style=\"color:red\">1 | 2 | 4 | 5 </span> | 6 | 10 |**\n",
    "\n",
    "\n",
    "**i = 4, fifth iteration**\n",
    "- Step-1: find min(pos-4 to pos-N-1) - **Min is 6 at position 4**\n",
    "         \n",
    "- Step-2: Swap Array(4) with Array(4) --> New Array --> **| <span style=\"color:red\">1 | 2 | 4  | 5 | 6 </span>| 10 |**\n",
    "\n",
    "\n",
    "- No need to check for last element as the Array is now Sorted\n",
    "\n",
    "\n"
   ]
  },
  {
   "cell_type": "markdown",
   "metadata": {},
   "source": [
    "## Time Complexity:\n",
    "\n",
    "- For both Best & Worst Case --> **O(N<sup>2</sup>)** \n",
    "\n",
    "\n",
    "- Excellent reference - <br>\n",
    "https://www.youtube.com/watch?v=9oWd4VJOwr0&t=35s"
   ]
  },
  {
   "cell_type": "markdown",
   "metadata": {},
   "source": [
    "<img src = \"./images/selection_sort.jpg\" />"
   ]
  },
  {
   "cell_type": "code",
   "execution_count": 1,
   "metadata": {},
   "outputs": [],
   "source": [
    "# As always - First try Brute Force\n",
    "\n",
    "def selection_sort(numlist):\n",
    "    N =len(numlist)\n",
    "    minimim = 0\n",
    "    for i in range(len(numlist)):\n",
    "        min_index = get_minimum(i, numlist)\n",
    "        numlist[i], numlist[min_index] = numlist[min_index], numlist[i]\n",
    "    \n",
    "    return numlist\n",
    "        \n",
    "        \n",
    "def get_minimum(i, numlist):\n",
    "    minindex = i\n",
    "    for j in range(i + 1, len(numlist)):\n",
    "        if numlist[j] < numlist[minindex]:\n",
    "            minindex = j\n",
    "        \n",
    "    return minindex\n"
   ]
  },
  {
   "cell_type": "code",
   "execution_count": 2,
   "metadata": {},
   "outputs": [
    {
     "name": "stdout",
     "output_type": "stream",
     "text": [
      "[1, 2, 4, 5, 6, 10]\n"
     ]
    }
   ],
   "source": [
    "numlist = [5, 4, 10, 1, 6, 2]\n",
    "result = selection_sort(numlist.copy())\n",
    "print(result)"
   ]
  },
  {
   "cell_type": "code",
   "execution_count": 3,
   "metadata": {},
   "outputs": [
    {
     "name": "stdout",
     "output_type": "stream",
     "text": [
      "[1, 3, 4, 7, 8, 10]\n"
     ]
    }
   ],
   "source": [
    "numlist = [7, 4, 10, 8, 3, 1]\n",
    "result = selection_sort(numlist.copy())\n",
    "print(result)"
   ]
  },
  {
   "cell_type": "code",
   "execution_count": null,
   "metadata": {},
   "outputs": [],
   "source": []
  }
 ],
 "metadata": {
  "kernelspec": {
   "display_name": "Python 3",
   "language": "python",
   "name": "python3"
  },
  "language_info": {
   "codemirror_mode": {
    "name": "ipython",
    "version": 3
   },
   "file_extension": ".py",
   "mimetype": "text/x-python",
   "name": "python",
   "nbconvert_exporter": "python",
   "pygments_lexer": "ipython3",
   "version": "3.7.6"
  }
 },
 "nbformat": 4,
 "nbformat_minor": 4
}
