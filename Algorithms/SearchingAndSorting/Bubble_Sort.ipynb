{
 "cells": [
  {
   "cell_type": "markdown",
   "metadata": {},
   "source": [
    "# Bubble Sort"
   ]
  },
  {
   "cell_type": "markdown",
   "metadata": {},
   "source": [
    "### Operation:\n",
    "\n",
    "In Bubble Sort - \n",
    "- <span style='color:maroon'>**The largest element is bubbled (moved) to the end**</span>, in the first complete iteration.\n",
    "- In next iteration, Next highest element is bubbled up\n",
    "\n",
    "eg.\n",
    "First complete Pass (looping over all elements first time)\n",
    "    (5, 1, 4, 2, 8 ) -> ( 1, 4, 2, 5, 8) <br>\n",
    "    In this case both 5 and 8 get places in thier right places\n",
    " \n",
    "Second complete pass\n",
    "   ( 1, 4, 2, 5, 8) -> ( 1, 2, 4, 5, 8 )\n",
    "     \n",
    "- The number of iterations (i) required is (N - 1) where N is number of elements in the array\n",
    "- In each iteration - We go through from 0th element to (N-i) th element to find the next highest element and place it  in its right position\n",
    "\n",
    "\n",
    "- **Time-Complexity:** <br>\n",
    "\n",
    "   . **Best Case: O(N)**  -- If the given array is already sorted, we will have to perform atleast 1 pass\n",
    "                      -- to go through all elements\n",
    "   . **Worst Case: O(N<sup>2</sup>)**"
   ]
  },
  {
   "cell_type": "code",
   "execution_count": 19,
   "metadata": {},
   "outputs": [],
   "source": [
    "# Version-1 Brute Force\n",
    "\n",
    "def bubble_sort_brute(numlist):\n",
    "    N = len(numlist)\n",
    "    \n",
    "    num_of_pass = 0\n",
    "    print(\"Original List:\", numlist)\n",
    "    for i in range(N-1):  # defines number of passes\n",
    "        for j in range(N - i - 1):  # will compare jth element with j + 1 element\n",
    "            if numlist[j] > numlist[j+1]:\n",
    "                numlist[j], numlist[j+1] = numlist[j+1], numlist[j]\n",
    "        print(f\"After Pass {i + 1} numlist is: {numlist}\")       \n",
    "    \n",
    "    return numlist"
   ]
  },
  {
   "cell_type": "code",
   "execution_count": 20,
   "metadata": {},
   "outputs": [
    {
     "name": "stdout",
     "output_type": "stream",
     "text": [
      "Original List: [5, 1, 4, 2, 8]\n",
      "After Pass 1 numlist is: [1, 4, 2, 5, 8]\n",
      "After Pass 2 numlist is: [1, 2, 4, 5, 8]\n",
      "After Pass 3 numlist is: [1, 2, 4, 5, 8]\n",
      "After Pass 4 numlist is: [1, 2, 4, 5, 8]\n",
      "Sorted List: [1, 2, 4, 5, 8]\n",
      "\n",
      "Original List: [15, 16, 6, 8, 5]\n",
      "After Pass 1 numlist is: [15, 6, 8, 5, 16]\n",
      "After Pass 2 numlist is: [6, 8, 5, 15, 16]\n",
      "After Pass 3 numlist is: [6, 5, 8, 15, 16]\n",
      "After Pass 4 numlist is: [5, 6, 8, 15, 16]\n",
      "Sorted List: [5, 6, 8, 15, 16]\n"
     ]
    }
   ],
   "source": [
    "numlist = [5, 1, 4, 2, 8]\n",
    "result = bubble_sort_brute(numlist.copy())\n",
    "print(\"Sorted List:\", result)\n",
    "print()\n",
    "\n",
    "numlist = [15, 16, 6, 8, 5]\n",
    "result = bubble_sort_brute(numlist.copy())\n",
    "print(\"Sorted List:\", result)\n"
   ]
  },
  {
   "cell_type": "code",
   "execution_count": 5,
   "metadata": {},
   "outputs": [],
   "source": [
    "def bubble_sort_brute_opt(numlist):\n",
    "    N = len(numlist)\n",
    "    \n",
    "    num_of_pass = 0\n",
    "    print(\"Original List:\", numlist)\n",
    "    for i in range(N-1):\n",
    "        sort_flag = False\n",
    "        for j in range(N - i - 1):\n",
    "            if numlist[j] > numlist[j+1]:\n",
    "                numlist[j], numlist[j+1] = numlist[j+1], numlist[j]\n",
    "                sort_flag = True\n",
    "        if not sort_flag:\n",
    "            print(f\"Taking break for i ={i}\")\n",
    "            break\n",
    "        print(f\"After Pass {i + 1} numlist is: {numlist}\")       \n",
    "    \n",
    "    return numlist"
   ]
  },
  {
   "cell_type": "code",
   "execution_count": 7,
   "metadata": {},
   "outputs": [
    {
     "name": "stdout",
     "output_type": "stream",
     "text": [
      "Original List: [1, 2, 3, 4, 5]\n",
      "Taking break for i =0\n",
      "Sorted List: [1, 2, 3, 4, 5]\n",
      "\n",
      "Original List: [1, 2, 3, 5, 4]\n",
      "After Pass 1 numlist is: [1, 2, 3, 4, 5]\n",
      "Taking break for i =1\n",
      "Sorted List: [1, 2, 3, 4, 5]\n",
      "\n",
      "Original List: [1, 15, 16, 0, 6, 20, 2, 8, 5]\n",
      "After Pass 1 numlist is: [1, 15, 0, 6, 16, 2, 8, 5, 20]\n",
      "After Pass 2 numlist is: [1, 0, 6, 15, 2, 8, 5, 16, 20]\n",
      "After Pass 3 numlist is: [0, 1, 6, 2, 8, 5, 15, 16, 20]\n",
      "After Pass 4 numlist is: [0, 1, 2, 6, 5, 8, 15, 16, 20]\n",
      "After Pass 5 numlist is: [0, 1, 2, 5, 6, 8, 15, 16, 20]\n",
      "Taking break for i =5\n",
      "Sorted List: [0, 1, 2, 5, 6, 8, 15, 16, 20]\n",
      "\n",
      "Original List: [15, 16, 6, 8, 5]\n",
      "After Pass 1 numlist is: [15, 6, 8, 5, 16]\n",
      "After Pass 2 numlist is: [6, 8, 5, 15, 16]\n",
      "After Pass 3 numlist is: [6, 5, 8, 15, 16]\n",
      "After Pass 4 numlist is: [5, 6, 8, 15, 16]\n",
      "Sorted List: [5, 6, 8, 15, 16]\n",
      "\n",
      "Original List: [1, 8, 2, 9, 6, 3, 0, 10, 20, 5]\n",
      "After Pass 1 numlist is: [1, 2, 8, 6, 3, 0, 9, 10, 5, 20]\n",
      "After Pass 2 numlist is: [1, 2, 6, 3, 0, 8, 9, 5, 10, 20]\n",
      "After Pass 3 numlist is: [1, 2, 3, 0, 6, 8, 5, 9, 10, 20]\n",
      "After Pass 4 numlist is: [1, 2, 0, 3, 6, 5, 8, 9, 10, 20]\n",
      "After Pass 5 numlist is: [1, 0, 2, 3, 5, 6, 8, 9, 10, 20]\n",
      "After Pass 6 numlist is: [0, 1, 2, 3, 5, 6, 8, 9, 10, 20]\n",
      "Taking break for i =6\n",
      "Sorted List: [0, 1, 2, 3, 5, 6, 8, 9, 10, 20]\n",
      "\n"
     ]
    }
   ],
   "source": [
    "numlist = [1, 2, 3, 4, 5]\n",
    "result = bubble_sort_brute_opt(numlist)\n",
    "print(\"Sorted List:\", result)\n",
    "print()\n",
    "\n",
    "\n",
    "numlist = [1, 2, 3, 5, 4]\n",
    "result = bubble_sort_brute_opt(numlist)\n",
    "print(\"Sorted List:\", result)\n",
    "print()\n",
    "\n",
    "numlist = [1, 15, 16, 0, 6, 20, 2,  8, 5]\n",
    "result = bubble_sort_brute_opt(numlist)\n",
    "print(\"Sorted List:\", result)\n",
    "print()\n",
    "numlist = [15, 16, 6, 8, 5]\n",
    "result = bubble_sort_brute_opt(numlist.copy())\n",
    "print(\"Sorted List:\", result)\n",
    "print()\n",
    "\n",
    "numlist = [1, 8, 2, 9, 6, 3, 0, 10, 20, 5]\n",
    "result = bubble_sort_brute_opt(numlist.copy())\n",
    "print(\"Sorted List:\", result)\n",
    "print()\n"
   ]
  },
  {
   "cell_type": "code",
   "execution_count": 25,
   "metadata": {},
   "outputs": [
    {
     "name": "stdout",
     "output_type": "stream",
     "text": [
      "Original List: [1, 2, 3, 4, 10, 8]\n",
      "After Pass 1 numlist is: [1, 2, 3, 4, 8, 10]\n",
      "After Pass 2 numlist is: [1, 2, 3, 4, 8, 10]\n",
      "After Pass 3 numlist is: [1, 2, 3, 4, 8, 10]\n",
      "After Pass 4 numlist is: [1, 2, 3, 4, 8, 10]\n",
      "After Pass 5 numlist is: [1, 2, 3, 4, 8, 10]\n",
      "Sorted List: [1, 2, 3, 4, 8, 10]\n",
      "\n",
      "------- Avoid Unncessary Passes ----------\n",
      "Original List: [1, 2, 3, 4, 10, 8]\n",
      "After Pass 1 numlist is: [1, 2, 3, 4, 8, 10]\n",
      "Sorted List: [1, 2, 3, 4, 8, 10]\n"
     ]
    }
   ],
   "source": [
    "numlist = [1, 2, 3, 4, 10, 8]\n",
    "result = bubble_sort_brute(numlist.copy())\n",
    "print(\"Sorted List:\", result)\n",
    "\n",
    "print()\n",
    "print(\"------- Avoid Unncessary Passes ----------\")\n",
    "numlist = [1, 2, 3, 4, 10, 8]\n",
    "result = bubble_sort_brute_opt(numlist.copy())\n",
    "print(\"Sorted List:\", result)"
   ]
  },
  {
   "cell_type": "code",
   "execution_count": null,
   "metadata": {},
   "outputs": [],
   "source": []
  }
 ],
 "metadata": {
  "kernelspec": {
   "display_name": "Python 3",
   "language": "python",
   "name": "python3"
  },
  "language_info": {
   "codemirror_mode": {
    "name": "ipython",
    "version": 3
   },
   "file_extension": ".py",
   "mimetype": "text/x-python",
   "name": "python",
   "nbconvert_exporter": "python",
   "pygments_lexer": "ipython3",
   "version": "3.7.6"
  }
 },
 "nbformat": 4,
 "nbformat_minor": 4
}
