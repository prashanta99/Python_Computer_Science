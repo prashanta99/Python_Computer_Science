{
 "cells": [
  {
   "cell_type": "code",
   "execution_count": 34,
   "metadata": {},
   "outputs": [],
   "source": [
    "def merge_arrays(arr1, arr2):\n",
    "    m = len(arr1)\n",
    "    n = len(arr2)\n",
    "    result = []\n",
    "    k = 0 \n",
    "    j = 0\n",
    "    i = 0\n",
    "    \n",
    "    result = [0 for i in range(m + n)]\n",
    "    \n",
    "    while i < m and j < n:\n",
    "        \n",
    "        if arr1[i] < arr2[j]:\n",
    "            if i < m:\n",
    "                result[k] = arr1[i]\n",
    "                i += 1\n",
    "            else:\n",
    "                break\n",
    "            \n",
    "        elif arr2[j] < arr1[i]:\n",
    "            if j < n:\n",
    "                result[k] = arr2[j]\n",
    "                j += 1\n",
    "            else:\n",
    "                break\n",
    "        k += 1\n",
    "\n",
    "    while i < m:\n",
    "        print(f\"i = {i}  and m = {m}\")\n",
    "        result[k] = arr1[i]\n",
    "        k += 1\n",
    "        i += 1\n",
    "    while j < n:\n",
    "        result[k] = arr2[j]\n",
    "        k += 1\n",
    "        j += 1\n",
    "        \n",
    "    return result"
   ]
  },
  {
   "cell_type": "code",
   "execution_count": 35,
   "metadata": {},
   "outputs": [
    {
     "name": "stdout",
     "output_type": "stream",
     "text": [
      "[1, 2, 3, 5, 6, 9, 10, 12, 15, 17, 18, 20]\n"
     ]
    }
   ],
   "source": [
    "arr1 = [1, 2, 3, 9, 12, 15]\n",
    "arr2 = [5, 6, 10, 17, 18, 20]\n",
    "print(merge_arrays(arr1, arr2))"
   ]
  },
  {
   "cell_type": "code",
   "execution_count": 41,
   "metadata": {},
   "outputs": [],
   "source": [
    "def merge(a, low, mid, high):\n",
    "    left = a[low:mid + 1]\n",
    "    right = a[mid + 1:high + 1]\n",
    "\n",
    "    i = j = 0\n",
    "    k = low\n",
    "\n",
    "    while i < len(left) and j < len(right):\n",
    "        if left[i] < right[j]:\n",
    "            a[k] = left[i]\n",
    "            i += 1\n",
    "        else:\n",
    "            a[k] = right[j]\n",
    "            j += 1\n",
    "        k += 1\n",
    "\n",
    "    while i < len(left):\n",
    "        a[k] = left[i]\n",
    "        i += 1\n",
    "        k += 1\n",
    "\n",
    "    while j < len(right):\n",
    "        a[k] = right[j]\n",
    "        j += 1\n",
    "        k += 1\n",
    "\n",
    "def mergeSortRecursive(nums, left, right):\n",
    "    \n",
    "    if right > left:\n",
    "        mid = (left + right)//2\n",
    "        mergeSortRecursive(nums, left, mid)\n",
    "        mergeSortRecursive(nums, mid + 1, right)\n",
    "        merge(nums, left, mid, right)\n",
    "    return  nums\n",
    "\n"
   ]
  },
  {
   "cell_type": "code",
   "execution_count": 42,
   "metadata": {},
   "outputs": [
    {
     "name": "stdout",
     "output_type": "stream",
     "text": [
      "Sorted nums = [0, 1, 5, 6, 8, 9, 10, 12, 20]\n"
     ]
    }
   ],
   "source": [
    "nums = [10, 8, 20, 5, 6, 9, 0, 12, 1]\n",
    "low = 0\n",
    "high = len(nums) - 1\n",
    "print(f\"Sorted nums = {mergeSortRecursive(nums, low, high)}\")\n"
   ]
  },
  {
   "cell_type": "code",
   "execution_count": null,
   "metadata": {},
   "outputs": [],
   "source": []
  }
 ],
 "metadata": {
  "kernelspec": {
   "display_name": "Python 3",
   "language": "python",
   "name": "python3"
  },
  "language_info": {
   "codemirror_mode": {
    "name": "ipython",
    "version": 3
   },
   "file_extension": ".py",
   "mimetype": "text/x-python",
   "name": "python",
   "nbconvert_exporter": "python",
   "pygments_lexer": "ipython3",
   "version": "3.7.6"
  }
 },
 "nbformat": 4,
 "nbformat_minor": 4
}
