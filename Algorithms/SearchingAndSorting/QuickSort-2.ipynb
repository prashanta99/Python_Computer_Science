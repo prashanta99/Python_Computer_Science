{
 "cells": [
  {
   "cell_type": "code",
   "execution_count": null,
   "metadata": {},
   "outputs": [],
   "source": []
  },
  {
   "cell_type": "code",
   "execution_count": null,
   "metadata": {},
   "outputs": [],
   "source": []
  },
  {
   "cell_type": "code",
   "execution_count": 1,
   "metadata": {},
   "outputs": [],
   "source": [
    "def QuickSort(arr):\n",
    "    \n",
    "    N = len(arr)\n",
    "    if N < 2:\n",
    "        return arr\n",
    "    \n",
    "    pivot = arr[0]\n",
    "    pivot_index = 0\n",
    "    \n",
    "    \n",
    "    for i in range(1, N):\n",
    "        if arr[i] <= pivot:\n",
    "            pivot_index += 1\n",
    "            arr[i], arr[pivot_index] = arr[pivot_index], arr[i]\n",
    "    \n",
    "    arr[0], arr[pivot_index] = arr[pivot_index], arr[0]\n",
    "    \n",
    "    left  = QuickSort(arr[0: pivot_index])\n",
    "    right = QuickSort(arr[pivot_index + 1: N])\n",
    "    \n",
    "    arr = left + [pivot] + right\n",
    "\n",
    "    return arr\n"
   ]
  },
  {
   "cell_type": "code",
   "execution_count": 4,
   "metadata": {},
   "outputs": [
    {
     "name": "stdout",
     "output_type": "stream",
     "text": [
      "\n",
      "Original : [10, 15, 1, 2, 9, 16, 11]\n",
      "Sorted.  : [1, 2, 9, 10, 11, 15, 16]\n",
      "\n",
      "Original : [7, 6, 10, 5, 9, 2, 1, 15, 7]\n",
      "Sorted.  : [1, 2, 5, 6, 7, 7, 9, 10, 15]\n"
     ]
    }
   ],
   "source": [
    "print()\n",
    "arr = [10, 15, 1, 2, 9, 16, 11]\n",
    "print(\"Original :\",arr)\n",
    "arr = QuickSort(arr)\n",
    "print(\"Sorted.  :\",arr)\n",
    "\n",
    "\n",
    "print()\n",
    "arr = [7 , 6, 10, 5, 9, 2, 1, 15, 7]\n",
    "print(\"Original :\",arr)\n",
    "arr = QuickSort(arr)\n",
    "print(\"Sorted.  :\",arr)           "
   ]
  },
  {
   "cell_type": "code",
   "execution_count": null,
   "metadata": {},
   "outputs": [],
   "source": []
  }
 ],
 "metadata": {
  "kernelspec": {
   "display_name": "Python 3",
   "language": "python",
   "name": "python3"
  },
  "language_info": {
   "codemirror_mode": {
    "name": "ipython",
    "version": 3
   },
   "file_extension": ".py",
   "mimetype": "text/x-python",
   "name": "python",
   "nbconvert_exporter": "python",
   "pygments_lexer": "ipython3",
   "version": "3.7.6"
  }
 },
 "nbformat": 4,
 "nbformat_minor": 4
}
