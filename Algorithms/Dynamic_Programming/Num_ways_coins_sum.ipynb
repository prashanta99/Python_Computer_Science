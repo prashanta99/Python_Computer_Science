{
 "cells": [
  {
   "cell_type": "markdown",
   "metadata": {},
   "source": [
    "# Minimum number of Coins for Change\n",
    "\n",
    "### Using Dynamic Programming\n",
    "\n",
    "If solution exists -> Dynamic Programming will find it and it will be able to find OPTIMAL Solution, compared to Recusion and Greedy."
   ]
  },
  {
   "cell_type": "code",
   "execution_count": 1,
   "metadata": {},
   "outputs": [],
   "source": [
    "coins = [2, 3, 5, 10]\n",
    "w = 15\n",
    "\n",
    "coins_mat = []"
   ]
  },
  {
   "cell_type": "code",
   "execution_count": 34,
   "metadata": {},
   "outputs": [
    {
     "data": {
      "text/plain": [
       "[1, 0, 1, 0, 1, 0, 1, 0, 1, 0, 1, 0, 1, 0, 1, 0]"
      ]
     },
     "execution_count": 34,
     "metadata": {},
     "output_type": "execute_result"
    }
   ],
   "source": [
    "A = [[None for i in range(16)] for j in coins]\n",
    "A[0] = [1 if j % coins[0] == 0 else 0 for j in range(len(A[0]))]\n",
    "A[0]"
   ]
  },
  {
   "cell_type": "code",
   "execution_count": 10,
   "metadata": {},
   "outputs": [
    {
     "data": {
      "text/plain": [
       "1"
      ]
     },
     "execution_count": 10,
     "metadata": {},
     "output_type": "execute_result"
    }
   ],
   "source": [
    "A[0][15]"
   ]
  },
  {
   "cell_type": "code",
   "execution_count": 44,
   "metadata": {},
   "outputs": [],
   "source": [
    "def get_num_of_coins(coins, w):\n",
    "    A = [[None for i in range(w + 1)] for j in coins]\n",
    "    A[0] = [1 if j % coins[0] == 0 else 0 for j in range(len(A[0]))]\n",
    "    num_coins = len(A)\n",
    "    for i in range(1, num_coins):\n",
    "        for j in range(w+1):\n",
    "            if coins[i] > j:\n",
    "                A[i][j] = A[i - 1][j]\n",
    "            else:\n",
    "                A[i][j] = A[i - 1][j] + A[i][j - coins[i]]         \n",
    "    print(A)\n",
    "    return A[len(A) - 1][len(A[0]) - 1]\n",
    "\n",
    "def exclude_include_sum(coin, sum):\n",
    "    \n",
    "    "
   ]
  },
  {
   "cell_type": "code",
   "execution_count": 46,
   "metadata": {},
   "outputs": [
    {
     "name": "stdout",
     "output_type": "stream",
     "text": [
      "[[1, 0, 1, 0, 1, 0, 1, 0, 1, 0, 1, 0, 1, 0, 1, 0], [1, 0, 1, 1, 1, 1, 2, 1, 2, 2, 2, 2, 3, 2, 3, 3], [1, 0, 1, 1, 1, 2, 2, 2, 3, 3, 4, 4, 5, 5, 6, 7], [1, 0, 1, 1, 1, 2, 2, 2, 3, 3, 5, 4, 6, 6, 7, 9]]\n",
      "9\n",
      "[[1, 1, 1, 1, 1, 1, 1, 1], [1, 1, 1, 1, 1, 2, 2, 2], [1, 1, 1, 1, 1, 2, 2, 2]]\n",
      "2\n",
      "[[1, 0, 1, 0, 1, 0, 1], [1, 0, 1, 1, 1, 1, 2], [1, 0, 1, 1, 1, 2, 2]]\n",
      "2\n"
     ]
    }
   ],
   "source": [
    "coins = [2, 3, 5, 10]\n",
    "w = 15\n",
    "min_coins = get_num_of_coins(coins, w)\n",
    "print(min_coins)\n",
    "    \n",
    "coins = [1, 5, 10]\n",
    "w = 7\n",
    "min_coins = get_num_of_coins(coins, w)\n",
    "print(min_coins)\n",
    "\n",
    "coins = [2, 3, 5]\n",
    "w = 6\n",
    "min_coins = get_num_of_coins(coins, w)\n",
    "print(min_coins)"
   ]
  },
  {
   "cell_type": "code",
   "execution_count": null,
   "metadata": {},
   "outputs": [],
   "source": []
  },
  {
   "cell_type": "code",
   "execution_count": null,
   "metadata": {},
   "outputs": [],
   "source": []
  }
 ],
 "metadata": {
  "kernelspec": {
   "display_name": "Python 3",
   "language": "python",
   "name": "python3"
  },
  "language_info": {
   "codemirror_mode": {
    "name": "ipython",
    "version": 3
   },
   "file_extension": ".py",
   "mimetype": "text/x-python",
   "name": "python",
   "nbconvert_exporter": "python",
   "pygments_lexer": "ipython3",
   "version": "3.7.6"
  }
 },
 "nbformat": 4,
 "nbformat_minor": 4
}
