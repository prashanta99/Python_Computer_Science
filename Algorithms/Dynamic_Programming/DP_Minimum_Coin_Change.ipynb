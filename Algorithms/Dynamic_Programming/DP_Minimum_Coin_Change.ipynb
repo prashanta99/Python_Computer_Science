{
 "cells": [
  {
   "cell_type": "markdown",
   "metadata": {},
   "source": [
    "# Minimum Coin Change\n",
    "\n",
    "### Using Dynamic Programming"
   ]
  },
  {
   "cell_type": "markdown",
   "metadata": {},
   "source": [
    "## Steps:\n",
    "    If coins[i] > j:\n",
    "        copy value from above cell [i - 1][j]"
   ]
  },
  {
   "cell_type": "code",
   "execution_count": 24,
   "metadata": {},
   "outputs": [],
   "source": [
    "coins = [1, 5, 6, 9]\n",
    "w = 10"
   ]
  },
  {
   "cell_type": "code",
   "execution_count": 31,
   "metadata": {},
   "outputs": [],
   "source": []
  },
  {
   "cell_type": "code",
   "execution_count": 32,
   "metadata": {},
   "outputs": [],
   "source": [
    "A[0] = [int(j/coins[0]) if j % coins[0] == 0 else 0 for j in range(len(A[0]))]"
   ]
  },
  {
   "cell_type": "code",
   "execution_count": 33,
   "metadata": {},
   "outputs": [
    {
     "data": {
      "text/plain": [
       "[[0, 1, 2, 3, 4, 5, 6, 7, 8, 9, 10],\n",
       " [inf, inf, inf, inf, inf, inf, inf, inf, inf, inf, inf],\n",
       " [inf, inf, inf, inf, inf, inf, inf, inf, inf, inf, inf],\n",
       " [inf, inf, inf, inf, inf, inf, inf, inf, inf, inf, inf]]"
      ]
     },
     "execution_count": 33,
     "metadata": {},
     "output_type": "execute_result"
    }
   ],
   "source": [
    "A"
   ]
  },
  {
   "cell_type": "code",
   "execution_count": 222,
   "metadata": {},
   "outputs": [],
   "source": [
    "def get_min_coins_sum(coins, w):\n",
    "    coins = sorted(coins)\n",
    "    N = len(coins)\n",
    "    A = [[float('inf') for i in range(w + 1)] for j in range(len(coins))]\n",
    "    \n",
    "    num_coins = len(coins)\n",
    "    for i in range(num_coins):\n",
    "        if i == 0:\n",
    "            A[i] = [int(j/coins[0]) if j % coins[0] == 0 else float('inf') for j in range(len(A[0]))]\n",
    "        else:\n",
    "            K = coins[i]\n",
    "            A[i][0:K] = A[i - 1][0:K] \n",
    "            \n",
    "            for j in range(K, w+1):\n",
    "                if K == 4:\n",
    "                    print()\n",
    "                    print(f\"min({A[i-1][j]},  {A[i][j % K] + int(j / K)}, { 1 + A[i][(j - K)]})   (j-K) = {(j-K)}\")\n",
    "                \n",
    "                A[i][j] = min(A[i-1][j],  A[i][j % K] + int(j / K), 1 + A[i][(j - K)])\n",
    "                \n",
    "    print(A)\n",
    "    return(A[N - 1][w])\n",
    "\n",
    "                \n"
   ]
  },
  {
   "cell_type": "code",
   "execution_count": 224,
   "metadata": {},
   "outputs": [],
   "source": [
    "def minNumberOfCoinsForChange(n, denoms):\n",
    "    # Write your code here.\n",
    "    denoms = sorted(denoms)\n",
    "    A = [[float('inf') for i in range(n + 1)] for j in range(len(denoms))]\n",
    "    N = len(denoms)\n",
    "    for i in range(N):\n",
    "        if i == 0:\n",
    "            A[i] = [int(j/denoms[0]) if j % denoms[0] == 0 else float('inf') for j in range(len(A[0]))]\n",
    "        else:\n",
    "            K = denoms[i]\n",
    "            A[i][0:denoms[i]] = A[i - 1][0:denoms[i]] \n",
    "            print()\n",
    "            print()\n",
    "            A[i][denoms[i]:] = [min(A[i - 1][j], \n",
    "                                A[i-1][j % denoms[i]] + int(j / denoms[i]),\n",
    "                                1 + A[i][j - K]\n",
    "                                ) \n",
    "                                for j in range(denoms[i], n+1)]\n",
    "    print(A)\n",
    "    result = A[N - 1][n]\n",
    "    if result != float(\"inf\"):\n",
    "        return result\n",
    "    else:\n",
    "        return -1"
   ]
  },
  {
   "cell_type": "code",
   "execution_count": 225,
   "metadata": {},
   "outputs": [
    {
     "name": "stdout",
     "output_type": "stream",
     "text": [
      "\n",
      "\n",
      "\n",
      "\n",
      "[[0, 1, 2, 3, 4, 5, 6, 7, 8, 9, 10], [0, 1, 2, 1, 2, 3, 2, 3, 4, 3, 4], [0, 1, 2, 1, 1, 2, 2, 2, 2, 3, 4]]\n",
      "4\n"
     ]
    }
   ],
   "source": [
    "coins = [1, 3, 4]\n",
    "w = 10\n",
    "#get_min_coins_sum(coins, w)\n",
    "print(minNumberOfCoinsForChange(w, coins))"
   ]
  },
  {
   "cell_type": "code",
   "execution_count": 226,
   "metadata": {},
   "outputs": [
    {
     "name": "stdout",
     "output_type": "stream",
     "text": [
      "min(2,1,1)  (j-k) = 0\n",
      "min(3,2,2)  (j-k) = 1\n",
      "min(2,3,3)  (j-k) = 2\n",
      "min(3,2,2)  (j-k) = 3\n",
      "min(4,2,inf)  (j-k) = 4\n",
      "min(3,3,inf)  (j-k) = 5\n",
      "min(4,4,inf)  (j-k) = 6\n",
      "[[0, 1, 2, 3, 4, 5, 6, 7, 8, 9, 10], [0, 1, 2, 1, 2, 3, 2, 3, 4, 3, 4], [0, 1, 2, 1, 1, 2, 2, 2, 2, 3, 4]]\n",
      "4\n"
     ]
    }
   ],
   "source": [
    "coins = [1, 3, 4]\n",
    "w = 10\n",
    "print(get_min_coins_sum_2(coins, w))"
   ]
  },
  {
   "cell_type": "code",
   "execution_count": 227,
   "metadata": {},
   "outputs": [
    {
     "name": "stdout",
     "output_type": "stream",
     "text": [
      "\n",
      "min(2,  1, 1)   (j-K) = 0\n",
      "\n",
      "min(3,  2, 2)   (j-K) = 1\n",
      "\n",
      "min(2,  3, 3)   (j-K) = 2\n",
      "\n",
      "min(3,  2, 2)   (j-K) = 3\n",
      "\n",
      "min(4,  2, 2)   (j-K) = 4\n",
      "\n",
      "min(3,  3, 3)   (j-K) = 5\n",
      "\n",
      "min(4,  4, 3)   (j-K) = 6\n",
      "[[0, 1, 2, 3, 4, 5, 6, 7, 8, 9, 10], [0, 1, 2, 1, 2, 3, 2, 3, 4, 3, 4], [0, 1, 2, 1, 1, 2, 2, 2, 2, 3, 3]]\n",
      "3\n"
     ]
    }
   ],
   "source": [
    "coins = [1, 3, 4]\n",
    "w = 10\n",
    "print(get_min_coins_sum(coins, w))"
   ]
  },
  {
   "cell_type": "code",
   "execution_count": 228,
   "metadata": {},
   "outputs": [
    {
     "name": "stdout",
     "output_type": "stream",
     "text": [
      "[[0, 1, 2, 3], [0, 1, 1, 2]]\n"
     ]
    },
    {
     "data": {
      "text/plain": [
       "2"
      ]
     },
     "execution_count": 228,
     "metadata": {},
     "output_type": "execute_result"
    }
   ],
   "source": [
    "coins = [2, 1]\n",
    "w = 3\n",
    "get_min_coins_sum(coins, w)"
   ]
  },
  {
   "cell_type": "code",
   "execution_count": 229,
   "metadata": {},
   "outputs": [
    {
     "name": "stdout",
     "output_type": "stream",
     "text": [
      "[[0, 1, 2, 3, 4, 5, 6, 7, 8, 9, 10, 11, 12, 13, 14, 15, 16, 17, 18, 19, 20, 21, 22, 23, 24], [0, 1, 2, 3, 4, 1, 2, 3, 4, 5, 2, 3, 4, 5, 6, 3, 4, 5, 6, 7, 4, 5, 6, 7, 8], [0, 1, 2, 3, 4, 1, 2, 3, 4, 5, 1, 2, 3, 4, 5, 2, 3, 4, 5, 6, 2, 3, 4, 5, 6]]\n"
     ]
    },
    {
     "data": {
      "text/plain": [
       "6"
      ]
     },
     "execution_count": 229,
     "metadata": {},
     "output_type": "execute_result"
    }
   ],
   "source": [
    "coins = [1, 5, 10]\n",
    "w = 24\n",
    "get_min_coins_sum(coins, w)"
   ]
  },
  {
   "cell_type": "code",
   "execution_count": 117,
   "metadata": {},
   "outputs": [
    {
     "name": "stdout",
     "output_type": "stream",
     "text": [
      "[[0, 1, 2, 3, 4, 5, 6, 7, 8, 9, 10], [0, 1, 2, 3, 4, 1, 2, 3, 4, 5, 10], [0, 1, 2, 3, 4, 1, 1, 2, 3, 4, 5], [0, 1, 2, 3, 4, 1, 1, 2, 3, 1, 2]]\n",
      "2\n",
      "\n",
      "------------------  coins = [2,1] w = 3------------------------------------\n",
      "[[0, 1, 2, 3], [0, 1, 1, 2]]\n",
      "2\n",
      "\n",
      "-------------------- coins = [2, 4] w = 7 ----------------------------------\n",
      "[[0, inf, 1, inf, 2, inf, 3, inf], [0, inf, 1, inf, 1, inf, 2, inf]]\n",
      "inf\n",
      "\n",
      "--------------------- coins = [1, 2, 4] w = 6 ---------------------------------\n",
      "[[0, 1, 2, 3, 4, 5, 6], [0, 1, 1, 2, 4, 5, 6], [0, 1, 1, 2, 1, 2, 2]]\n",
      "2\n",
      "\n",
      "---------------------- coins = [3, 5] w = 9 --------------------------------\n",
      "[[0, inf, inf, 1, inf, inf, 2, inf, inf, 3], [0, inf, inf, 1, inf, 1, 2, inf, 2, 3]]\n",
      "3\n"
     ]
    }
   ],
   "source": [
    "coins = [1, 5, 6, 9]\n",
    "w = 10\n",
    "get_min_coins_sum(coins, w)\n",
    "\n",
    "print()\n",
    "print(\"------------------  coins = [2,1] w = 3------------------------------------\")\n",
    "coins = [2,1]\n",
    "w = 3\n",
    "get_min_coins_sum(coins, w)\n",
    "\n",
    "print()\n",
    "print(\"-------------------- coins = [2, 4] w = 7 ----------------------------------\")\n",
    "coins = [2, 4]\n",
    "w = 7\n",
    "get_min_coins_sum(coins, w)\n",
    "\n",
    "print()\n",
    "print(\"--------------------- coins = [1, 2, 4] w = 6 ---------------------------------\")\n",
    "coins = [1, 2, 4]\n",
    "w = 6\n",
    "get_min_coins_sum(coins, w)\n",
    "\n",
    "print()\n",
    "print(\"---------------------- coins = [3, 5] w = 9 --------------------------------\")\n",
    "coins = [3, 5]\n",
    "w = 9\n",
    "get_min_coins_sum(coins, w)\n",
    "\n",
    "print()\n",
    "print(\"---------------------- coins = [3, 5] w = 9 --------------------------------\")\n",
    "coins = [3, 5]\n",
    "w = 9\n",
    "get_min_coins_sum(coins, w)\n",
    "\n"
   ]
  },
  {
   "cell_type": "code",
   "execution_count": 106,
   "metadata": {},
   "outputs": [],
   "source": [
    "def get_MinCoinsChange(coins, w):\n",
    "    numCoins = [float(\"inf\") for amount in range(w+1)]\n",
    "    numCoins[0] = 0\n",
    "    \n",
    "    for coins in coins:\n",
    "        for amount in range(len(numCoins)):\n",
    "            numCoins[amount] = min(numCoins[amount], 1 + numCoins[amount - coins])\n",
    "    \n",
    "    print(numCoins)\n",
    "    print(numCoins[w])\n",
    "    if numCoins[w] != float(\"inf\"):\n",
    "        return numCoins[w]\n",
    "    return -1\n",
    "    "
   ]
  },
  {
   "cell_type": "code",
   "execution_count": 107,
   "metadata": {},
   "outputs": [
    {
     "name": "stdout",
     "output_type": "stream",
     "text": [
      "[0, 1, 2, 2, 2, 1, 1, 2, 3, 1, 2]\n",
      "2\n",
      "\n",
      "------------------  coins = [2,1] w = 3------------------------------------\n",
      "[0, 1, 1, 2]\n",
      "2\n",
      "\n",
      "-------------------- coins = [2, 4] w = 7 ----------------------------------\n",
      "[0, inf, 1, inf, 1, inf, 2, inf]\n",
      "inf\n",
      "\n",
      "--------------------- coins = [1, 2, 4] w = 6 ---------------------------------\n",
      "[0, 1, 1, 2, 1, 2, 2]\n",
      "2\n",
      "\n",
      "---------------------- coins = [3, 5] w = 9 --------------------------------\n",
      "[0, 3, inf, 1, 4, 1, 2, inf, 2, 3]\n",
      "3\n"
     ]
    },
    {
     "data": {
      "text/plain": [
       "3"
      ]
     },
     "execution_count": 107,
     "metadata": {},
     "output_type": "execute_result"
    }
   ],
   "source": [
    "coins = [1, 5, 6, 9]\n",
    "w = 10\n",
    "get_MinCoinsChange(coins, w)\n",
    "\n",
    "print()\n",
    "print(\"------------------  coins = [2,1] w = 3------------------------------------\")\n",
    "coins = [2,1]\n",
    "w = 3\n",
    "get_MinCoinsChange(coins, w)\n",
    "\n",
    "print()\n",
    "print(\"-------------------- coins = [2, 4] w = 7 ----------------------------------\")\n",
    "coins = [2, 4]\n",
    "w = 7\n",
    "get_MinCoinsChange(coins, w)\n",
    "\n",
    "print()\n",
    "print(\"--------------------- coins = [1, 2, 4] w = 6 ---------------------------------\")\n",
    "coins = [1, 2, 4]\n",
    "w = 6\n",
    "get_MinCoinsChange(coins, w)\n",
    "\n",
    "print()\n",
    "print(\"---------------------- coins = [3, 5] w = 9 --------------------------------\")\n",
    "coins = [3, 5]\n",
    "w = 9\n",
    "get_MinCoinsChange(coins, w)"
   ]
  },
  {
   "cell_type": "code",
   "execution_count": null,
   "metadata": {},
   "outputs": [],
   "source": []
  }
 ],
 "metadata": {
  "kernelspec": {
   "display_name": "Python 3",
   "language": "python",
   "name": "python3"
  },
  "language_info": {
   "codemirror_mode": {
    "name": "ipython",
    "version": 3
   },
   "file_extension": ".py",
   "mimetype": "text/x-python",
   "name": "python",
   "nbconvert_exporter": "python",
   "pygments_lexer": "ipython3",
   "version": "3.7.6"
  }
 },
 "nbformat": 4,
 "nbformat_minor": 4
}
